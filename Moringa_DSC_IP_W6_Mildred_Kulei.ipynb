{
  "nbformat": 4,
  "nbformat_minor": 0,
  "metadata": {
    "colab": {
      "name": "Moringa_DSC_IP_W6_Mildred_Kulei.ipynb",
      "provenance": [],
      "authorship_tag": "ABX9TyP5eVAMMYYB8c4BItzvRe1M",
      "include_colab_link": true
    },
    "kernelspec": {
      "name": "python3",
      "display_name": "Python 3"
    },
    "language_info": {
      "name": "python"
    }
  },
  "cells": [
    {
      "cell_type": "markdown",
      "metadata": {
        "id": "view-in-github",
        "colab_type": "text"
      },
      "source": [
        "<a href=\"https://colab.research.google.com/github/Mildredkulei7/Regression_Moringa_core_IP_W6/blob/main/Moringa_DSC_IP_W6_Mildred_Kulei.ipynb\" target=\"_parent\"><img src=\"https://colab.research.google.com/assets/colab-badge.svg\" alt=\"Open In Colab\"/></a>"
      ]
    },
    {
      "cell_type": "markdown",
      "metadata": {
        "id": "prYplwPRL9cE"
      },
      "source": [
        "## Overview"
      ]
    },
    {
      "cell_type": "markdown",
      "metadata": {
        "id": "47N5UgaMMZiR"
      },
      "source": [
        "You have been recruited as a football analyst in a company - Mchezopesa Ltd and tasked to accomplish the task below.\n",
        "\n",
        "A prediction result of a game between team 1 and team 2, based on who's home and who's away, and on whether or not the game is friendly (include rank in your training).\n",
        "\n",
        "You have two possible approaches (as  shown below) given the datasets that will be provided\n",
        "\n",
        "Input: Home team, Away team, Tournament type (World cup, Friendly, Other)\n",
        "\n",
        "Approach 1: Polynomial approach\n",
        "\n",
        "What to train given:\n",
        "\n",
        "* 1. Rank of home team\n",
        "* 2. Rank of away team\n",
        "* 3. Tournament type\n",
        "\n",
        "Model 1: Predict how many goals the home team scores.\n",
        "\n",
        "Model 2: Predict how many goals the away team scores.\n",
        "\n",
        "Approach 2: Logistic approach\n",
        "\n",
        "Feature Engineering: Figure out from the home team’s perspective if the game is a Win, Lose or Draw (W, L, D)\n",
        "\n"
      ]
    },
    {
      "cell_type": "markdown",
      "metadata": {
        "id": "nbjnkINFJxBm"
      },
      "source": [
        "## 1. Defining the Question"
      ]
    },
    {
      "cell_type": "markdown",
      "metadata": {
        "id": "AfyLF7MQJ6T-"
      },
      "source": [
        "### a) Specifying the Question"
      ]
    },
    {
      "cell_type": "markdown",
      "metadata": {
        "id": "45BfmQSMbWiC"
      },
      "source": [
        "Using polinomial approach\n",
        "* Question 1. Predict how many goals the home team scores.\n",
        "\n",
        "* Question 2. Predict how many goals the away team scores.\n",
        "\n",
        "Using logistic approach\n",
        "* Question 3. Figure out from the home team’s perspective if the game is a Win, Lose or Draw (W, L, D)"
      ]
    },
    {
      "cell_type": "markdown",
      "metadata": {
        "id": "_VeE71pJJ-dx"
      },
      "source": [
        "### b) Defining the Metric for Success"
      ]
    },
    {
      "cell_type": "markdown",
      "metadata": {
        "id": "C3w4SJlRmMg2"
      },
      "source": [
        "Creating a model with high accuracy."
      ]
    },
    {
      "cell_type": "markdown",
      "metadata": {
        "id": "uBfJzidJKDGG"
      },
      "source": [
        "### c) Understanding the context "
      ]
    },
    {
      "cell_type": "markdown",
      "metadata": {
        "id": "ewrJ5AdImZun"
      },
      "source": [
        "accomplish the task below.\n",
        "\n",
        "A prediction result of a game between team 1 and team 2, based on who's home and who's away, and on whether or not the game is friendly (include rank in your training).\n",
        "\n",
        "You have two possible approaches (as  shown below) given the datasets that will be provided\n",
        "\n",
        "Input: Home team, Away team, Tournament type (World cup, Friendly, Other)\n",
        "\n",
        "Approach 1: Polynomial approach\n",
        "\n",
        "What to train given:\n",
        "\n",
        "Rank of home team\n",
        "Rank of away team\n",
        "Tournament type\n",
        "Model 1: Predict how many goals the home team scores.\n",
        "\n",
        "Model 2: Predict how many goals the away team scores.\n",
        "\n",
        "Approach 2: Logistic approach\n",
        "\n",
        "Feature Engineering: Figure out from the home team’s perspective if the game is a Win, Lose or Draw (W, L, D)"
      ]
    },
    {
      "cell_type": "markdown",
      "metadata": {
        "id": "Is5iyMnmKInX"
      },
      "source": [
        "### d) Recording the Experimental Design"
      ]
    },
    {
      "cell_type": "markdown",
      "metadata": {
        "id": "iR4goGBJc50Z"
      },
      "source": [
        "1.Defining the question\n",
        "2.Importing the libraries\n",
        "3.Reading the data\n",
        "4.External data source validation\n",
        "5.Data cleaning\n",
        "6.Exploratory data analysis(Univeriate summaries)\n",
        "7.Regression\n",
        "8.Implementing solution\n",
        "9.Challenging solution\n",
        "10. Follow up question"
      ]
    },
    {
      "cell_type": "markdown",
      "metadata": {
        "id": "rFO17i9LKL8S"
      },
      "source": [
        "### e) Data Relevance"
      ]
    },
    {
      "cell_type": "markdown",
      "metadata": {
        "id": "d-FfXIFzeuV8"
      },
      "source": [
        "The data relevance will be discussed after the analysis is complete."
      ]
    },
    {
      "cell_type": "markdown",
      "metadata": {
        "id": "GhbW4vAIKPcv"
      },
      "source": [
        "## 2. Importing Libraries"
      ]
    },
    {
      "cell_type": "code",
      "metadata": {
        "id": "ihbmumILSQrB"
      },
      "source": [
        "#Import libaries\n",
        "import numpy as np\n",
        "import pandas as pd\n",
        "import matplotlib.pyplot as plt\n",
        "import seaborn as sns\n",
        "%matplotlib inline\n",
        "\n",
        "from sklearn.preprocessing import PolynomialFeatures\n",
        "\n",
        "from sklearn.model_selection import train_test_split\n",
        "\n",
        "# Import LinearRegression method from sklearn linear_model library\n",
        "from sklearn.linear_model import LinearRegression"
      ],
      "execution_count": null,
      "outputs": []
    },
    {
      "cell_type": "markdown",
      "metadata": {
        "id": "HyvFndo-KYPB"
      },
      "source": [
        "## 3. Reading the Data"
      ]
    },
    {
      "cell_type": "code",
      "metadata": {
        "colab": {
          "base_uri": "https://localhost:8080/",
          "height": 307
        },
        "id": "MiZzDariTii7",
        "outputId": "af7ffa65-263c-4912-ab28-af00c32ddc43"
      },
      "source": [
        "# Load the dataset\n",
        "fifa_rank = pd.read_csv('/content/fifa_ranking.csv')\n",
        "\n",
        "fifa_rank.head()"
      ],
      "execution_count": null,
      "outputs": [
        {
          "output_type": "execute_result",
          "data": {
            "text/html": [
              "<div>\n",
              "<style scoped>\n",
              "    .dataframe tbody tr th:only-of-type {\n",
              "        vertical-align: middle;\n",
              "    }\n",
              "\n",
              "    .dataframe tbody tr th {\n",
              "        vertical-align: top;\n",
              "    }\n",
              "\n",
              "    .dataframe thead th {\n",
              "        text-align: right;\n",
              "    }\n",
              "</style>\n",
              "<table border=\"1\" class=\"dataframe\">\n",
              "  <thead>\n",
              "    <tr style=\"text-align: right;\">\n",
              "      <th></th>\n",
              "      <th>rank</th>\n",
              "      <th>country_full</th>\n",
              "      <th>country_abrv</th>\n",
              "      <th>total_points</th>\n",
              "      <th>previous_points</th>\n",
              "      <th>rank_change</th>\n",
              "      <th>cur_year_avg</th>\n",
              "      <th>cur_year_avg_weighted</th>\n",
              "      <th>last_year_avg</th>\n",
              "      <th>last_year_avg_weighted</th>\n",
              "      <th>two_year_ago_avg</th>\n",
              "      <th>two_year_ago_weighted</th>\n",
              "      <th>three_year_ago_avg</th>\n",
              "      <th>three_year_ago_weighted</th>\n",
              "      <th>confederation</th>\n",
              "      <th>rank_date</th>\n",
              "    </tr>\n",
              "  </thead>\n",
              "  <tbody>\n",
              "    <tr>\n",
              "      <th>0</th>\n",
              "      <td>1</td>\n",
              "      <td>Germany</td>\n",
              "      <td>GER</td>\n",
              "      <td>0.0</td>\n",
              "      <td>57</td>\n",
              "      <td>0</td>\n",
              "      <td>0.0</td>\n",
              "      <td>0.0</td>\n",
              "      <td>0.0</td>\n",
              "      <td>0.0</td>\n",
              "      <td>0.0</td>\n",
              "      <td>0.0</td>\n",
              "      <td>0.0</td>\n",
              "      <td>0.0</td>\n",
              "      <td>UEFA</td>\n",
              "      <td>1993-08-08</td>\n",
              "    </tr>\n",
              "    <tr>\n",
              "      <th>1</th>\n",
              "      <td>2</td>\n",
              "      <td>Italy</td>\n",
              "      <td>ITA</td>\n",
              "      <td>0.0</td>\n",
              "      <td>57</td>\n",
              "      <td>0</td>\n",
              "      <td>0.0</td>\n",
              "      <td>0.0</td>\n",
              "      <td>0.0</td>\n",
              "      <td>0.0</td>\n",
              "      <td>0.0</td>\n",
              "      <td>0.0</td>\n",
              "      <td>0.0</td>\n",
              "      <td>0.0</td>\n",
              "      <td>UEFA</td>\n",
              "      <td>1993-08-08</td>\n",
              "    </tr>\n",
              "    <tr>\n",
              "      <th>2</th>\n",
              "      <td>3</td>\n",
              "      <td>Switzerland</td>\n",
              "      <td>SUI</td>\n",
              "      <td>0.0</td>\n",
              "      <td>50</td>\n",
              "      <td>9</td>\n",
              "      <td>0.0</td>\n",
              "      <td>0.0</td>\n",
              "      <td>0.0</td>\n",
              "      <td>0.0</td>\n",
              "      <td>0.0</td>\n",
              "      <td>0.0</td>\n",
              "      <td>0.0</td>\n",
              "      <td>0.0</td>\n",
              "      <td>UEFA</td>\n",
              "      <td>1993-08-08</td>\n",
              "    </tr>\n",
              "    <tr>\n",
              "      <th>3</th>\n",
              "      <td>4</td>\n",
              "      <td>Sweden</td>\n",
              "      <td>SWE</td>\n",
              "      <td>0.0</td>\n",
              "      <td>55</td>\n",
              "      <td>0</td>\n",
              "      <td>0.0</td>\n",
              "      <td>0.0</td>\n",
              "      <td>0.0</td>\n",
              "      <td>0.0</td>\n",
              "      <td>0.0</td>\n",
              "      <td>0.0</td>\n",
              "      <td>0.0</td>\n",
              "      <td>0.0</td>\n",
              "      <td>UEFA</td>\n",
              "      <td>1993-08-08</td>\n",
              "    </tr>\n",
              "    <tr>\n",
              "      <th>4</th>\n",
              "      <td>5</td>\n",
              "      <td>Argentina</td>\n",
              "      <td>ARG</td>\n",
              "      <td>0.0</td>\n",
              "      <td>51</td>\n",
              "      <td>5</td>\n",
              "      <td>0.0</td>\n",
              "      <td>0.0</td>\n",
              "      <td>0.0</td>\n",
              "      <td>0.0</td>\n",
              "      <td>0.0</td>\n",
              "      <td>0.0</td>\n",
              "      <td>0.0</td>\n",
              "      <td>0.0</td>\n",
              "      <td>CONMEBOL</td>\n",
              "      <td>1993-08-08</td>\n",
              "    </tr>\n",
              "  </tbody>\n",
              "</table>\n",
              "</div>"
            ],
            "text/plain": [
              "   rank country_full  ... confederation   rank_date\n",
              "0     1      Germany  ...          UEFA  1993-08-08\n",
              "1     2        Italy  ...          UEFA  1993-08-08\n",
              "2     3  Switzerland  ...          UEFA  1993-08-08\n",
              "3     4       Sweden  ...          UEFA  1993-08-08\n",
              "4     5    Argentina  ...      CONMEBOL  1993-08-08\n",
              "\n",
              "[5 rows x 16 columns]"
            ]
          },
          "metadata": {
            "tags": []
          },
          "execution_count": 56
        }
      ]
    },
    {
      "cell_type": "code",
      "metadata": {
        "colab": {
          "base_uri": "https://localhost:8080/",
          "height": 307
        },
        "id": "Jf11r5Nc2870",
        "outputId": "631dfde0-90c2-4e75-cfb5-b2db63e84caa"
      },
      "source": [
        "fifa_rank.tail()"
      ],
      "execution_count": null,
      "outputs": [
        {
          "output_type": "execute_result",
          "data": {
            "text/html": [
              "<div>\n",
              "<style scoped>\n",
              "    .dataframe tbody tr th:only-of-type {\n",
              "        vertical-align: middle;\n",
              "    }\n",
              "\n",
              "    .dataframe tbody tr th {\n",
              "        vertical-align: top;\n",
              "    }\n",
              "\n",
              "    .dataframe thead th {\n",
              "        text-align: right;\n",
              "    }\n",
              "</style>\n",
              "<table border=\"1\" class=\"dataframe\">\n",
              "  <thead>\n",
              "    <tr style=\"text-align: right;\">\n",
              "      <th></th>\n",
              "      <th>rank</th>\n",
              "      <th>country_full</th>\n",
              "      <th>country_abrv</th>\n",
              "      <th>total_points</th>\n",
              "      <th>previous_points</th>\n",
              "      <th>rank_change</th>\n",
              "      <th>cur_year_avg</th>\n",
              "      <th>cur_year_avg_weighted</th>\n",
              "      <th>last_year_avg</th>\n",
              "      <th>last_year_avg_weighted</th>\n",
              "      <th>two_year_ago_avg</th>\n",
              "      <th>two_year_ago_weighted</th>\n",
              "      <th>three_year_ago_avg</th>\n",
              "      <th>three_year_ago_weighted</th>\n",
              "      <th>confederation</th>\n",
              "      <th>rank_date</th>\n",
              "    </tr>\n",
              "  </thead>\n",
              "  <tbody>\n",
              "    <tr>\n",
              "      <th>57788</th>\n",
              "      <td>206</td>\n",
              "      <td>Anguilla</td>\n",
              "      <td>AIA</td>\n",
              "      <td>0.0</td>\n",
              "      <td>0</td>\n",
              "      <td>1</td>\n",
              "      <td>0.0</td>\n",
              "      <td>0.0</td>\n",
              "      <td>0.0</td>\n",
              "      <td>0.0</td>\n",
              "      <td>0.0</td>\n",
              "      <td>0.0</td>\n",
              "      <td>0.0</td>\n",
              "      <td>0.0</td>\n",
              "      <td>CONCACAF</td>\n",
              "      <td>2018-06-07</td>\n",
              "    </tr>\n",
              "    <tr>\n",
              "      <th>57789</th>\n",
              "      <td>206</td>\n",
              "      <td>Bahamas</td>\n",
              "      <td>BAH</td>\n",
              "      <td>0.0</td>\n",
              "      <td>0</td>\n",
              "      <td>1</td>\n",
              "      <td>0.0</td>\n",
              "      <td>0.0</td>\n",
              "      <td>0.0</td>\n",
              "      <td>0.0</td>\n",
              "      <td>0.0</td>\n",
              "      <td>0.0</td>\n",
              "      <td>0.0</td>\n",
              "      <td>0.0</td>\n",
              "      <td>CONCACAF</td>\n",
              "      <td>2018-06-07</td>\n",
              "    </tr>\n",
              "    <tr>\n",
              "      <th>57790</th>\n",
              "      <td>206</td>\n",
              "      <td>Eritrea</td>\n",
              "      <td>ERI</td>\n",
              "      <td>0.0</td>\n",
              "      <td>0</td>\n",
              "      <td>1</td>\n",
              "      <td>0.0</td>\n",
              "      <td>0.0</td>\n",
              "      <td>0.0</td>\n",
              "      <td>0.0</td>\n",
              "      <td>0.0</td>\n",
              "      <td>0.0</td>\n",
              "      <td>0.0</td>\n",
              "      <td>0.0</td>\n",
              "      <td>CAF</td>\n",
              "      <td>2018-06-07</td>\n",
              "    </tr>\n",
              "    <tr>\n",
              "      <th>57791</th>\n",
              "      <td>206</td>\n",
              "      <td>Somalia</td>\n",
              "      <td>SOM</td>\n",
              "      <td>0.0</td>\n",
              "      <td>0</td>\n",
              "      <td>1</td>\n",
              "      <td>0.0</td>\n",
              "      <td>0.0</td>\n",
              "      <td>0.0</td>\n",
              "      <td>0.0</td>\n",
              "      <td>0.0</td>\n",
              "      <td>0.0</td>\n",
              "      <td>0.0</td>\n",
              "      <td>0.0</td>\n",
              "      <td>CAF</td>\n",
              "      <td>2018-06-07</td>\n",
              "    </tr>\n",
              "    <tr>\n",
              "      <th>57792</th>\n",
              "      <td>206</td>\n",
              "      <td>Tonga</td>\n",
              "      <td>TGA</td>\n",
              "      <td>0.0</td>\n",
              "      <td>0</td>\n",
              "      <td>1</td>\n",
              "      <td>0.0</td>\n",
              "      <td>0.0</td>\n",
              "      <td>0.0</td>\n",
              "      <td>0.0</td>\n",
              "      <td>0.0</td>\n",
              "      <td>0.0</td>\n",
              "      <td>0.0</td>\n",
              "      <td>0.0</td>\n",
              "      <td>OFC</td>\n",
              "      <td>2018-06-07</td>\n",
              "    </tr>\n",
              "  </tbody>\n",
              "</table>\n",
              "</div>"
            ],
            "text/plain": [
              "       rank country_full  ... confederation   rank_date\n",
              "57788   206     Anguilla  ...      CONCACAF  2018-06-07\n",
              "57789   206      Bahamas  ...      CONCACAF  2018-06-07\n",
              "57790   206      Eritrea  ...           CAF  2018-06-07\n",
              "57791   206      Somalia  ...           CAF  2018-06-07\n",
              "57792   206        Tonga  ...           OFC  2018-06-07\n",
              "\n",
              "[5 rows x 16 columns]"
            ]
          },
          "metadata": {
            "tags": []
          },
          "execution_count": 57
        }
      ]
    },
    {
      "cell_type": "code",
      "metadata": {
        "colab": {
          "base_uri": "https://localhost:8080/"
        },
        "id": "TlPedDIlAYjF",
        "outputId": "b88c62e4-96c7-40c9-82b7-e9db935debb9"
      },
      "source": [
        "fifa_rank.country_full.describe()"
      ],
      "execution_count": null,
      "outputs": [
        {
          "output_type": "execute_result",
          "data": {
            "text/plain": [
              "count     57793\n",
              "unique      216\n",
              "top       Sudan\n",
              "freq        325\n",
              "Name: country_full, dtype: object"
            ]
          },
          "metadata": {
            "tags": []
          },
          "execution_count": 58
        }
      ]
    },
    {
      "cell_type": "code",
      "metadata": {
        "id": "Jt9mJjZr9Oxa"
      },
      "source": [
        "#renaming atlist one column to match the other dataframe\n",
        "fifa_rank.rename(columns={\"rank_date\":\"date\"}, inplace=True)"
      ],
      "execution_count": null,
      "outputs": []
    },
    {
      "cell_type": "code",
      "metadata": {
        "colab": {
          "base_uri": "https://localhost:8080/"
        },
        "id": "KoqwZrKoyj5s",
        "outputId": "b8c80e74-635e-489d-d81a-f035a9c796ce"
      },
      "source": [
        "fifa_rank.shape"
      ],
      "execution_count": null,
      "outputs": [
        {
          "output_type": "execute_result",
          "data": {
            "text/plain": [
              "(57793, 16)"
            ]
          },
          "metadata": {
            "tags": []
          },
          "execution_count": 60
        }
      ]
    },
    {
      "cell_type": "code",
      "metadata": {
        "colab": {
          "base_uri": "https://localhost:8080/",
          "height": 203
        },
        "id": "xW_CxUlrUTvA",
        "outputId": "6602f88c-20dd-42ac-dada-791a53ae1f31"
      },
      "source": [
        "# Load the second dataset\n",
        "fifa_results = pd.read_csv('/content/results.csv')\n",
        "\n",
        "fifa_results.head()"
      ],
      "execution_count": null,
      "outputs": [
        {
          "output_type": "execute_result",
          "data": {
            "text/html": [
              "<div>\n",
              "<style scoped>\n",
              "    .dataframe tbody tr th:only-of-type {\n",
              "        vertical-align: middle;\n",
              "    }\n",
              "\n",
              "    .dataframe tbody tr th {\n",
              "        vertical-align: top;\n",
              "    }\n",
              "\n",
              "    .dataframe thead th {\n",
              "        text-align: right;\n",
              "    }\n",
              "</style>\n",
              "<table border=\"1\" class=\"dataframe\">\n",
              "  <thead>\n",
              "    <tr style=\"text-align: right;\">\n",
              "      <th></th>\n",
              "      <th>date</th>\n",
              "      <th>home_team</th>\n",
              "      <th>away_team</th>\n",
              "      <th>home_score</th>\n",
              "      <th>away_score</th>\n",
              "      <th>tournament</th>\n",
              "      <th>city</th>\n",
              "      <th>country</th>\n",
              "      <th>neutral</th>\n",
              "    </tr>\n",
              "  </thead>\n",
              "  <tbody>\n",
              "    <tr>\n",
              "      <th>0</th>\n",
              "      <td>1872-11-30</td>\n",
              "      <td>Scotland</td>\n",
              "      <td>England</td>\n",
              "      <td>0</td>\n",
              "      <td>0</td>\n",
              "      <td>Friendly</td>\n",
              "      <td>Glasgow</td>\n",
              "      <td>Scotland</td>\n",
              "      <td>False</td>\n",
              "    </tr>\n",
              "    <tr>\n",
              "      <th>1</th>\n",
              "      <td>1873-03-08</td>\n",
              "      <td>England</td>\n",
              "      <td>Scotland</td>\n",
              "      <td>4</td>\n",
              "      <td>2</td>\n",
              "      <td>Friendly</td>\n",
              "      <td>London</td>\n",
              "      <td>England</td>\n",
              "      <td>False</td>\n",
              "    </tr>\n",
              "    <tr>\n",
              "      <th>2</th>\n",
              "      <td>1874-03-07</td>\n",
              "      <td>Scotland</td>\n",
              "      <td>England</td>\n",
              "      <td>2</td>\n",
              "      <td>1</td>\n",
              "      <td>Friendly</td>\n",
              "      <td>Glasgow</td>\n",
              "      <td>Scotland</td>\n",
              "      <td>False</td>\n",
              "    </tr>\n",
              "    <tr>\n",
              "      <th>3</th>\n",
              "      <td>1875-03-06</td>\n",
              "      <td>England</td>\n",
              "      <td>Scotland</td>\n",
              "      <td>2</td>\n",
              "      <td>2</td>\n",
              "      <td>Friendly</td>\n",
              "      <td>London</td>\n",
              "      <td>England</td>\n",
              "      <td>False</td>\n",
              "    </tr>\n",
              "    <tr>\n",
              "      <th>4</th>\n",
              "      <td>1876-03-04</td>\n",
              "      <td>Scotland</td>\n",
              "      <td>England</td>\n",
              "      <td>3</td>\n",
              "      <td>0</td>\n",
              "      <td>Friendly</td>\n",
              "      <td>Glasgow</td>\n",
              "      <td>Scotland</td>\n",
              "      <td>False</td>\n",
              "    </tr>\n",
              "  </tbody>\n",
              "</table>\n",
              "</div>"
            ],
            "text/plain": [
              "         date home_team away_team  ...     city   country neutral\n",
              "0  1872-11-30  Scotland   England  ...  Glasgow  Scotland   False\n",
              "1  1873-03-08   England  Scotland  ...   London   England   False\n",
              "2  1874-03-07  Scotland   England  ...  Glasgow  Scotland   False\n",
              "3  1875-03-06   England  Scotland  ...   London   England   False\n",
              "4  1876-03-04  Scotland   England  ...  Glasgow  Scotland   False\n",
              "\n",
              "[5 rows x 9 columns]"
            ]
          },
          "metadata": {
            "tags": []
          },
          "execution_count": 61
        }
      ]
    },
    {
      "cell_type": "code",
      "metadata": {
        "colab": {
          "base_uri": "https://localhost:8080/",
          "height": 203
        },
        "id": "L3XebPXkEWbS",
        "outputId": "35ce1ac8-bb0c-4898-c407-78205865114d"
      },
      "source": [
        "fifa_results.tail()"
      ],
      "execution_count": null,
      "outputs": [
        {
          "output_type": "execute_result",
          "data": {
            "text/html": [
              "<div>\n",
              "<style scoped>\n",
              "    .dataframe tbody tr th:only-of-type {\n",
              "        vertical-align: middle;\n",
              "    }\n",
              "\n",
              "    .dataframe tbody tr th {\n",
              "        vertical-align: top;\n",
              "    }\n",
              "\n",
              "    .dataframe thead th {\n",
              "        text-align: right;\n",
              "    }\n",
              "</style>\n",
              "<table border=\"1\" class=\"dataframe\">\n",
              "  <thead>\n",
              "    <tr style=\"text-align: right;\">\n",
              "      <th></th>\n",
              "      <th>date</th>\n",
              "      <th>home_team</th>\n",
              "      <th>away_team</th>\n",
              "      <th>home_score</th>\n",
              "      <th>away_score</th>\n",
              "      <th>tournament</th>\n",
              "      <th>city</th>\n",
              "      <th>country</th>\n",
              "      <th>neutral</th>\n",
              "    </tr>\n",
              "  </thead>\n",
              "  <tbody>\n",
              "    <tr>\n",
              "      <th>40834</th>\n",
              "      <td>2019-07-18</td>\n",
              "      <td>American Samoa</td>\n",
              "      <td>Tahiti</td>\n",
              "      <td>8</td>\n",
              "      <td>1</td>\n",
              "      <td>Pacific Games</td>\n",
              "      <td>Apia</td>\n",
              "      <td>Samoa</td>\n",
              "      <td>True</td>\n",
              "    </tr>\n",
              "    <tr>\n",
              "      <th>40835</th>\n",
              "      <td>2019-07-18</td>\n",
              "      <td>Fiji</td>\n",
              "      <td>Solomon Islands</td>\n",
              "      <td>4</td>\n",
              "      <td>4</td>\n",
              "      <td>Pacific Games</td>\n",
              "      <td>Apia</td>\n",
              "      <td>Samoa</td>\n",
              "      <td>True</td>\n",
              "    </tr>\n",
              "    <tr>\n",
              "      <th>40836</th>\n",
              "      <td>2019-07-19</td>\n",
              "      <td>Senegal</td>\n",
              "      <td>Algeria</td>\n",
              "      <td>0</td>\n",
              "      <td>1</td>\n",
              "      <td>African Cup of Nations</td>\n",
              "      <td>Cairo</td>\n",
              "      <td>Egypt</td>\n",
              "      <td>True</td>\n",
              "    </tr>\n",
              "    <tr>\n",
              "      <th>40837</th>\n",
              "      <td>2019-07-19</td>\n",
              "      <td>Tajikistan</td>\n",
              "      <td>North Korea</td>\n",
              "      <td>0</td>\n",
              "      <td>1</td>\n",
              "      <td>Intercontinental Cup</td>\n",
              "      <td>Ahmedabad</td>\n",
              "      <td>India</td>\n",
              "      <td>True</td>\n",
              "    </tr>\n",
              "    <tr>\n",
              "      <th>40838</th>\n",
              "      <td>2019-07-20</td>\n",
              "      <td>Papua New Guinea</td>\n",
              "      <td>Fiji</td>\n",
              "      <td>1</td>\n",
              "      <td>1</td>\n",
              "      <td>Pacific Games</td>\n",
              "      <td>Apia</td>\n",
              "      <td>Samoa</td>\n",
              "      <td>True</td>\n",
              "    </tr>\n",
              "  </tbody>\n",
              "</table>\n",
              "</div>"
            ],
            "text/plain": [
              "             date         home_team  ... country  neutral\n",
              "40834  2019-07-18    American Samoa  ...   Samoa     True\n",
              "40835  2019-07-18              Fiji  ...   Samoa     True\n",
              "40836  2019-07-19           Senegal  ...   Egypt     True\n",
              "40837  2019-07-19        Tajikistan  ...   India     True\n",
              "40838  2019-07-20  Papua New Guinea  ...   Samoa     True\n",
              "\n",
              "[5 rows x 9 columns]"
            ]
          },
          "metadata": {
            "tags": []
          },
          "execution_count": 62
        }
      ]
    },
    {
      "cell_type": "code",
      "metadata": {
        "colab": {
          "base_uri": "https://localhost:8080/"
        },
        "id": "OTQVOvmC9tU-",
        "outputId": "ff987183-7a78-40ae-95e0-d9bc84dc707c"
      },
      "source": [
        "fifa_results.shape"
      ],
      "execution_count": null,
      "outputs": [
        {
          "output_type": "execute_result",
          "data": {
            "text/plain": [
              "(40839, 9)"
            ]
          },
          "metadata": {
            "tags": []
          },
          "execution_count": 63
        }
      ]
    },
    {
      "cell_type": "code",
      "metadata": {
        "colab": {
          "base_uri": "https://localhost:8080/"
        },
        "id": "vxbs_gY3FHwm",
        "outputId": "20872201-51a2-4f33-f316-c5930b225eb3"
      },
      "source": [
        "fifa = pd.merge(fifa_results,fifa_rank[['country_full', 'date', 'rank']],how='left', left_on=['date','country'], right_on=['date','country_full'])\n",
        "fifa.shape"
      ],
      "execution_count": null,
      "outputs": [
        {
          "output_type": "execute_result",
          "data": {
            "text/plain": [
              "(40839, 11)"
            ]
          },
          "metadata": {
            "tags": []
          },
          "execution_count": 64
        }
      ]
    },
    {
      "cell_type": "code",
      "metadata": {
        "colab": {
          "base_uri": "https://localhost:8080/"
        },
        "id": "pPbZNpy1Ke_J",
        "outputId": "6bb1f7af-a149-464f-a077-aa370df9ddf1"
      },
      "source": [
        "# Determining the no. of records in our dataset\n",
        "#\n",
        "fifa.shape"
      ],
      "execution_count": null,
      "outputs": [
        {
          "output_type": "execute_result",
          "data": {
            "text/plain": [
              "(40839, 11)"
            ]
          },
          "metadata": {
            "tags": []
          },
          "execution_count": 65
        }
      ]
    },
    {
      "cell_type": "code",
      "metadata": {
        "colab": {
          "base_uri": "https://localhost:8080/",
          "height": 203
        },
        "id": "Q-DPb6RqKjGC",
        "outputId": "86d2277d-6e13-4aca-e79c-9311da8d08dd"
      },
      "source": [
        "# Previewing the top of our dataset\n",
        "#\n",
        "fifa.head()"
      ],
      "execution_count": null,
      "outputs": [
        {
          "output_type": "execute_result",
          "data": {
            "text/html": [
              "<div>\n",
              "<style scoped>\n",
              "    .dataframe tbody tr th:only-of-type {\n",
              "        vertical-align: middle;\n",
              "    }\n",
              "\n",
              "    .dataframe tbody tr th {\n",
              "        vertical-align: top;\n",
              "    }\n",
              "\n",
              "    .dataframe thead th {\n",
              "        text-align: right;\n",
              "    }\n",
              "</style>\n",
              "<table border=\"1\" class=\"dataframe\">\n",
              "  <thead>\n",
              "    <tr style=\"text-align: right;\">\n",
              "      <th></th>\n",
              "      <th>date</th>\n",
              "      <th>home_team</th>\n",
              "      <th>away_team</th>\n",
              "      <th>home_score</th>\n",
              "      <th>away_score</th>\n",
              "      <th>tournament</th>\n",
              "      <th>city</th>\n",
              "      <th>country</th>\n",
              "      <th>neutral</th>\n",
              "      <th>country_full</th>\n",
              "      <th>rank</th>\n",
              "    </tr>\n",
              "  </thead>\n",
              "  <tbody>\n",
              "    <tr>\n",
              "      <th>0</th>\n",
              "      <td>1872-11-30</td>\n",
              "      <td>Scotland</td>\n",
              "      <td>England</td>\n",
              "      <td>0</td>\n",
              "      <td>0</td>\n",
              "      <td>Friendly</td>\n",
              "      <td>Glasgow</td>\n",
              "      <td>Scotland</td>\n",
              "      <td>False</td>\n",
              "      <td>NaN</td>\n",
              "      <td>NaN</td>\n",
              "    </tr>\n",
              "    <tr>\n",
              "      <th>1</th>\n",
              "      <td>1873-03-08</td>\n",
              "      <td>England</td>\n",
              "      <td>Scotland</td>\n",
              "      <td>4</td>\n",
              "      <td>2</td>\n",
              "      <td>Friendly</td>\n",
              "      <td>London</td>\n",
              "      <td>England</td>\n",
              "      <td>False</td>\n",
              "      <td>NaN</td>\n",
              "      <td>NaN</td>\n",
              "    </tr>\n",
              "    <tr>\n",
              "      <th>2</th>\n",
              "      <td>1874-03-07</td>\n",
              "      <td>Scotland</td>\n",
              "      <td>England</td>\n",
              "      <td>2</td>\n",
              "      <td>1</td>\n",
              "      <td>Friendly</td>\n",
              "      <td>Glasgow</td>\n",
              "      <td>Scotland</td>\n",
              "      <td>False</td>\n",
              "      <td>NaN</td>\n",
              "      <td>NaN</td>\n",
              "    </tr>\n",
              "    <tr>\n",
              "      <th>3</th>\n",
              "      <td>1875-03-06</td>\n",
              "      <td>England</td>\n",
              "      <td>Scotland</td>\n",
              "      <td>2</td>\n",
              "      <td>2</td>\n",
              "      <td>Friendly</td>\n",
              "      <td>London</td>\n",
              "      <td>England</td>\n",
              "      <td>False</td>\n",
              "      <td>NaN</td>\n",
              "      <td>NaN</td>\n",
              "    </tr>\n",
              "    <tr>\n",
              "      <th>4</th>\n",
              "      <td>1876-03-04</td>\n",
              "      <td>Scotland</td>\n",
              "      <td>England</td>\n",
              "      <td>3</td>\n",
              "      <td>0</td>\n",
              "      <td>Friendly</td>\n",
              "      <td>Glasgow</td>\n",
              "      <td>Scotland</td>\n",
              "      <td>False</td>\n",
              "      <td>NaN</td>\n",
              "      <td>NaN</td>\n",
              "    </tr>\n",
              "  </tbody>\n",
              "</table>\n",
              "</div>"
            ],
            "text/plain": [
              "         date home_team away_team  ...  neutral  country_full rank\n",
              "0  1872-11-30  Scotland   England  ...    False           NaN  NaN\n",
              "1  1873-03-08   England  Scotland  ...    False           NaN  NaN\n",
              "2  1874-03-07  Scotland   England  ...    False           NaN  NaN\n",
              "3  1875-03-06   England  Scotland  ...    False           NaN  NaN\n",
              "4  1876-03-04  Scotland   England  ...    False           NaN  NaN\n",
              "\n",
              "[5 rows x 11 columns]"
            ]
          },
          "metadata": {
            "tags": []
          },
          "execution_count": 66
        }
      ]
    },
    {
      "cell_type": "code",
      "metadata": {
        "colab": {
          "base_uri": "https://localhost:8080/",
          "height": 203
        },
        "id": "HwJwYNh4KmaS",
        "outputId": "09cbebcc-f762-4d82-ed20-5684e664c0b9"
      },
      "source": [
        "# Previewing the bottom of our dataset\n",
        "# \n",
        "fifa.tail()"
      ],
      "execution_count": null,
      "outputs": [
        {
          "output_type": "execute_result",
          "data": {
            "text/html": [
              "<div>\n",
              "<style scoped>\n",
              "    .dataframe tbody tr th:only-of-type {\n",
              "        vertical-align: middle;\n",
              "    }\n",
              "\n",
              "    .dataframe tbody tr th {\n",
              "        vertical-align: top;\n",
              "    }\n",
              "\n",
              "    .dataframe thead th {\n",
              "        text-align: right;\n",
              "    }\n",
              "</style>\n",
              "<table border=\"1\" class=\"dataframe\">\n",
              "  <thead>\n",
              "    <tr style=\"text-align: right;\">\n",
              "      <th></th>\n",
              "      <th>date</th>\n",
              "      <th>home_team</th>\n",
              "      <th>away_team</th>\n",
              "      <th>home_score</th>\n",
              "      <th>away_score</th>\n",
              "      <th>tournament</th>\n",
              "      <th>city</th>\n",
              "      <th>country</th>\n",
              "      <th>neutral</th>\n",
              "      <th>country_full</th>\n",
              "      <th>rank</th>\n",
              "    </tr>\n",
              "  </thead>\n",
              "  <tbody>\n",
              "    <tr>\n",
              "      <th>40834</th>\n",
              "      <td>2019-07-18</td>\n",
              "      <td>American Samoa</td>\n",
              "      <td>Tahiti</td>\n",
              "      <td>8</td>\n",
              "      <td>1</td>\n",
              "      <td>Pacific Games</td>\n",
              "      <td>Apia</td>\n",
              "      <td>Samoa</td>\n",
              "      <td>True</td>\n",
              "      <td>NaN</td>\n",
              "      <td>NaN</td>\n",
              "    </tr>\n",
              "    <tr>\n",
              "      <th>40835</th>\n",
              "      <td>2019-07-18</td>\n",
              "      <td>Fiji</td>\n",
              "      <td>Solomon Islands</td>\n",
              "      <td>4</td>\n",
              "      <td>4</td>\n",
              "      <td>Pacific Games</td>\n",
              "      <td>Apia</td>\n",
              "      <td>Samoa</td>\n",
              "      <td>True</td>\n",
              "      <td>NaN</td>\n",
              "      <td>NaN</td>\n",
              "    </tr>\n",
              "    <tr>\n",
              "      <th>40836</th>\n",
              "      <td>2019-07-19</td>\n",
              "      <td>Senegal</td>\n",
              "      <td>Algeria</td>\n",
              "      <td>0</td>\n",
              "      <td>1</td>\n",
              "      <td>African Cup of Nations</td>\n",
              "      <td>Cairo</td>\n",
              "      <td>Egypt</td>\n",
              "      <td>True</td>\n",
              "      <td>NaN</td>\n",
              "      <td>NaN</td>\n",
              "    </tr>\n",
              "    <tr>\n",
              "      <th>40837</th>\n",
              "      <td>2019-07-19</td>\n",
              "      <td>Tajikistan</td>\n",
              "      <td>North Korea</td>\n",
              "      <td>0</td>\n",
              "      <td>1</td>\n",
              "      <td>Intercontinental Cup</td>\n",
              "      <td>Ahmedabad</td>\n",
              "      <td>India</td>\n",
              "      <td>True</td>\n",
              "      <td>NaN</td>\n",
              "      <td>NaN</td>\n",
              "    </tr>\n",
              "    <tr>\n",
              "      <th>40838</th>\n",
              "      <td>2019-07-20</td>\n",
              "      <td>Papua New Guinea</td>\n",
              "      <td>Fiji</td>\n",
              "      <td>1</td>\n",
              "      <td>1</td>\n",
              "      <td>Pacific Games</td>\n",
              "      <td>Apia</td>\n",
              "      <td>Samoa</td>\n",
              "      <td>True</td>\n",
              "      <td>NaN</td>\n",
              "      <td>NaN</td>\n",
              "    </tr>\n",
              "  </tbody>\n",
              "</table>\n",
              "</div>"
            ],
            "text/plain": [
              "             date         home_team  ... country_full  rank\n",
              "40834  2019-07-18    American Samoa  ...          NaN   NaN\n",
              "40835  2019-07-18              Fiji  ...          NaN   NaN\n",
              "40836  2019-07-19           Senegal  ...          NaN   NaN\n",
              "40837  2019-07-19        Tajikistan  ...          NaN   NaN\n",
              "40838  2019-07-20  Papua New Guinea  ...          NaN   NaN\n",
              "\n",
              "[5 rows x 11 columns]"
            ]
          },
          "metadata": {
            "tags": []
          },
          "execution_count": 67
        }
      ]
    },
    {
      "cell_type": "code",
      "metadata": {
        "colab": {
          "base_uri": "https://localhost:8080/"
        },
        "id": "2HYH0y-yKq7S",
        "outputId": "26d9ca22-2768-4e03-c475-422649e5e5be"
      },
      "source": [
        "# Checking whether each column has an appropriate datatype\n",
        "#\n",
        "fifa.info()"
      ],
      "execution_count": null,
      "outputs": [
        {
          "output_type": "stream",
          "text": [
            "<class 'pandas.core.frame.DataFrame'>\n",
            "Int64Index: 40839 entries, 0 to 40838\n",
            "Data columns (total 11 columns):\n",
            " #   Column        Non-Null Count  Dtype  \n",
            "---  ------        --------------  -----  \n",
            " 0   date          40839 non-null  object \n",
            " 1   home_team     40839 non-null  object \n",
            " 2   away_team     40839 non-null  object \n",
            " 3   home_score    40839 non-null  int64  \n",
            " 4   away_score    40839 non-null  int64  \n",
            " 5   tournament    40839 non-null  object \n",
            " 6   city          40839 non-null  object \n",
            " 7   country       40839 non-null  object \n",
            " 8   neutral       40839 non-null  bool   \n",
            " 9   country_full  950 non-null    object \n",
            " 10  rank          950 non-null    float64\n",
            "dtypes: bool(1), float64(1), int64(2), object(7)\n",
            "memory usage: 3.5+ MB\n"
          ],
          "name": "stdout"
        }
      ]
    },
    {
      "cell_type": "code",
      "metadata": {
        "colab": {
          "base_uri": "https://localhost:8080/",
          "height": 295
        },
        "id": "tU5AT6RWaPFt",
        "outputId": "68412fdf-e7b8-4ee4-e11f-dcfe0c09dfe9"
      },
      "source": [
        "fifa.describe()"
      ],
      "execution_count": null,
      "outputs": [
        {
          "output_type": "execute_result",
          "data": {
            "text/html": [
              "<div>\n",
              "<style scoped>\n",
              "    .dataframe tbody tr th:only-of-type {\n",
              "        vertical-align: middle;\n",
              "    }\n",
              "\n",
              "    .dataframe tbody tr th {\n",
              "        vertical-align: top;\n",
              "    }\n",
              "\n",
              "    .dataframe thead th {\n",
              "        text-align: right;\n",
              "    }\n",
              "</style>\n",
              "<table border=\"1\" class=\"dataframe\">\n",
              "  <thead>\n",
              "    <tr style=\"text-align: right;\">\n",
              "      <th></th>\n",
              "      <th>home_score</th>\n",
              "      <th>away_score</th>\n",
              "      <th>rank</th>\n",
              "    </tr>\n",
              "  </thead>\n",
              "  <tbody>\n",
              "    <tr>\n",
              "      <th>count</th>\n",
              "      <td>40839.000000</td>\n",
              "      <td>40839.000000</td>\n",
              "      <td>950.000000</td>\n",
              "    </tr>\n",
              "    <tr>\n",
              "      <th>mean</th>\n",
              "      <td>1.745709</td>\n",
              "      <td>1.188105</td>\n",
              "      <td>64.905263</td>\n",
              "    </tr>\n",
              "    <tr>\n",
              "      <th>std</th>\n",
              "      <td>1.749145</td>\n",
              "      <td>1.405120</td>\n",
              "      <td>48.075168</td>\n",
              "    </tr>\n",
              "    <tr>\n",
              "      <th>min</th>\n",
              "      <td>0.000000</td>\n",
              "      <td>0.000000</td>\n",
              "      <td>1.000000</td>\n",
              "    </tr>\n",
              "    <tr>\n",
              "      <th>25%</th>\n",
              "      <td>1.000000</td>\n",
              "      <td>0.000000</td>\n",
              "      <td>24.000000</td>\n",
              "    </tr>\n",
              "    <tr>\n",
              "      <th>50%</th>\n",
              "      <td>1.000000</td>\n",
              "      <td>1.000000</td>\n",
              "      <td>56.000000</td>\n",
              "    </tr>\n",
              "    <tr>\n",
              "      <th>75%</th>\n",
              "      <td>2.000000</td>\n",
              "      <td>2.000000</td>\n",
              "      <td>96.000000</td>\n",
              "    </tr>\n",
              "    <tr>\n",
              "      <th>max</th>\n",
              "      <td>31.000000</td>\n",
              "      <td>21.000000</td>\n",
              "      <td>201.000000</td>\n",
              "    </tr>\n",
              "  </tbody>\n",
              "</table>\n",
              "</div>"
            ],
            "text/plain": [
              "         home_score    away_score        rank\n",
              "count  40839.000000  40839.000000  950.000000\n",
              "mean       1.745709      1.188105   64.905263\n",
              "std        1.749145      1.405120   48.075168\n",
              "min        0.000000      0.000000    1.000000\n",
              "25%        1.000000      0.000000   24.000000\n",
              "50%        1.000000      1.000000   56.000000\n",
              "75%        2.000000      2.000000   96.000000\n",
              "max       31.000000     21.000000  201.000000"
            ]
          },
          "metadata": {
            "tags": []
          },
          "execution_count": 69
        }
      ]
    },
    {
      "cell_type": "markdown",
      "metadata": {
        "id": "WlVIMK97KZUc"
      },
      "source": [
        "## 4. External Data Source Validation"
      ]
    },
    {
      "cell_type": "code",
      "metadata": {
        "id": "XlQz1qnpImbM"
      },
      "source": [
        ""
      ],
      "execution_count": null,
      "outputs": []
    },
    {
      "cell_type": "markdown",
      "metadata": {
        "id": "aEGlMYrvLFt4"
      },
      "source": [
        "## 5. Data Cleaning"
      ]
    },
    {
      "cell_type": "code",
      "metadata": {
        "colab": {
          "base_uri": "https://localhost:8080/"
        },
        "id": "mutk7wH4Z4b7",
        "outputId": "b4ca8640-4489-4fd8-930f-a253d4d571ec"
      },
      "source": [
        "#checking for duplicates\n",
        "fifa.duplicated().sum()"
      ],
      "execution_count": null,
      "outputs": [
        {
          "output_type": "execute_result",
          "data": {
            "text/plain": [
              "0"
            ]
          },
          "metadata": {
            "tags": []
          },
          "execution_count": 71
        }
      ]
    },
    {
      "cell_type": "code",
      "metadata": {
        "colab": {
          "base_uri": "https://localhost:8080/"
        },
        "id": "HPeeZMiNbK03",
        "outputId": "bab0433d-19b2-4e0a-f856-9929fef97fdc"
      },
      "source": [
        "#checking for nulls\n",
        "fifa.isnull().sum()"
      ],
      "execution_count": null,
      "outputs": [
        {
          "output_type": "execute_result",
          "data": {
            "text/plain": [
              "date                0\n",
              "home_team           0\n",
              "away_team           0\n",
              "home_score          0\n",
              "away_score          0\n",
              "tournament          0\n",
              "city                0\n",
              "country             0\n",
              "neutral             0\n",
              "country_full    39889\n",
              "rank            39889\n",
              "dtype: int64"
            ]
          },
          "metadata": {
            "tags": []
          },
          "execution_count": 70
        }
      ]
    },
    {
      "cell_type": "markdown",
      "metadata": {
        "id": "ECdIixFDg-qv"
      },
      "source": [
        "There are alot of nulls on country_full and rank columns, and since country_full has same values with country we will have to do away with the column.\n",
        "for rank column we will have to do away with the nulls since we can not compute or guess a rank, and our main purpose here is to create a model using rank so we will want to use a correct figure."
      ]
    },
    {
      "cell_type": "code",
      "metadata": {
        "colab": {
          "base_uri": "https://localhost:8080/"
        },
        "id": "WQUZDS-EdrLZ",
        "outputId": "fcd4a651-120b-4caa-8b99-951531a80a56"
      },
      "source": [
        "#removing the nulls\n",
        "\n",
        "fifa_clean = fifa.dropna(axis=0)\n",
        "fifa_clean.isnull().sum()"
      ],
      "execution_count": null,
      "outputs": [
        {
          "output_type": "execute_result",
          "data": {
            "text/plain": [
              "date            0\n",
              "home_team       0\n",
              "away_team       0\n",
              "home_score      0\n",
              "away_score      0\n",
              "tournament      0\n",
              "city            0\n",
              "country         0\n",
              "neutral         0\n",
              "country_full    0\n",
              "rank            0\n",
              "dtype: int64"
            ]
          },
          "metadata": {
            "tags": []
          },
          "execution_count": 72
        }
      ]
    },
    {
      "cell_type": "code",
      "metadata": {
        "colab": {
          "base_uri": "https://localhost:8080/",
          "height": 203
        },
        "id": "Wsbu1etbd1xg",
        "outputId": "2a34f209-d031-4fee-dbdd-8e84d90c472b"
      },
      "source": [
        "fifa_clean.head()"
      ],
      "execution_count": null,
      "outputs": [
        {
          "output_type": "execute_result",
          "data": {
            "text/html": [
              "<div>\n",
              "<style scoped>\n",
              "    .dataframe tbody tr th:only-of-type {\n",
              "        vertical-align: middle;\n",
              "    }\n",
              "\n",
              "    .dataframe tbody tr th {\n",
              "        vertical-align: top;\n",
              "    }\n",
              "\n",
              "    .dataframe thead th {\n",
              "        text-align: right;\n",
              "    }\n",
              "</style>\n",
              "<table border=\"1\" class=\"dataframe\">\n",
              "  <thead>\n",
              "    <tr style=\"text-align: right;\">\n",
              "      <th></th>\n",
              "      <th>date</th>\n",
              "      <th>home_team</th>\n",
              "      <th>away_team</th>\n",
              "      <th>home_score</th>\n",
              "      <th>away_score</th>\n",
              "      <th>tournament</th>\n",
              "      <th>city</th>\n",
              "      <th>country</th>\n",
              "      <th>neutral</th>\n",
              "      <th>country_full</th>\n",
              "      <th>rank</th>\n",
              "    </tr>\n",
              "  </thead>\n",
              "  <tbody>\n",
              "    <tr>\n",
              "      <th>17915</th>\n",
              "      <td>1993-08-08</td>\n",
              "      <td>Bolivia</td>\n",
              "      <td>Uruguay</td>\n",
              "      <td>3</td>\n",
              "      <td>1</td>\n",
              "      <td>FIFA World Cup qualification</td>\n",
              "      <td>La Paz</td>\n",
              "      <td>Bolivia</td>\n",
              "      <td>False</td>\n",
              "      <td>Bolivia</td>\n",
              "      <td>59.0</td>\n",
              "    </tr>\n",
              "    <tr>\n",
              "      <th>17916</th>\n",
              "      <td>1993-08-08</td>\n",
              "      <td>Brazil</td>\n",
              "      <td>Mexico</td>\n",
              "      <td>1</td>\n",
              "      <td>1</td>\n",
              "      <td>Friendly</td>\n",
              "      <td>Maceió</td>\n",
              "      <td>Brazil</td>\n",
              "      <td>False</td>\n",
              "      <td>Brazil</td>\n",
              "      <td>8.0</td>\n",
              "    </tr>\n",
              "    <tr>\n",
              "      <th>17917</th>\n",
              "      <td>1993-08-08</td>\n",
              "      <td>Ecuador</td>\n",
              "      <td>Venezuela</td>\n",
              "      <td>5</td>\n",
              "      <td>0</td>\n",
              "      <td>FIFA World Cup qualification</td>\n",
              "      <td>Quito</td>\n",
              "      <td>Ecuador</td>\n",
              "      <td>False</td>\n",
              "      <td>Ecuador</td>\n",
              "      <td>35.0</td>\n",
              "    </tr>\n",
              "    <tr>\n",
              "      <th>17918</th>\n",
              "      <td>1993-08-08</td>\n",
              "      <td>Guinea</td>\n",
              "      <td>Sierra Leone</td>\n",
              "      <td>1</td>\n",
              "      <td>0</td>\n",
              "      <td>Friendly</td>\n",
              "      <td>Conakry</td>\n",
              "      <td>Guinea</td>\n",
              "      <td>False</td>\n",
              "      <td>Guinea</td>\n",
              "      <td>65.0</td>\n",
              "    </tr>\n",
              "    <tr>\n",
              "      <th>17919</th>\n",
              "      <td>1993-08-08</td>\n",
              "      <td>Paraguay</td>\n",
              "      <td>Argentina</td>\n",
              "      <td>1</td>\n",
              "      <td>3</td>\n",
              "      <td>FIFA World Cup qualification</td>\n",
              "      <td>Asunción</td>\n",
              "      <td>Paraguay</td>\n",
              "      <td>False</td>\n",
              "      <td>Paraguay</td>\n",
              "      <td>67.0</td>\n",
              "    </tr>\n",
              "  </tbody>\n",
              "</table>\n",
              "</div>"
            ],
            "text/plain": [
              "             date home_team     away_team  ...  neutral  country_full  rank\n",
              "17915  1993-08-08   Bolivia       Uruguay  ...    False       Bolivia  59.0\n",
              "17916  1993-08-08    Brazil        Mexico  ...    False        Brazil   8.0\n",
              "17917  1993-08-08   Ecuador     Venezuela  ...    False       Ecuador  35.0\n",
              "17918  1993-08-08    Guinea  Sierra Leone  ...    False        Guinea  65.0\n",
              "17919  1993-08-08  Paraguay     Argentina  ...    False      Paraguay  67.0\n",
              "\n",
              "[5 rows x 11 columns]"
            ]
          },
          "metadata": {
            "tags": []
          },
          "execution_count": 73
        }
      ]
    },
    {
      "cell_type": "code",
      "metadata": {
        "colab": {
          "base_uri": "https://localhost:8080/",
          "height": 501
        },
        "id": "g7HiwAdXeCec",
        "outputId": "095deae7-beee-41e3-8e59-dc52ad155048"
      },
      "source": [
        "#dropping the column country_full, country and city since we will not be using them for analysis.\n",
        "\n",
        "fifa_clean.drop(['country_full','country','city'], axis=1, inplace=True)\n",
        "fifa_clean"
      ],
      "execution_count": null,
      "outputs": [
        {
          "output_type": "stream",
          "text": [
            "/usr/local/lib/python3.7/dist-packages/pandas/core/frame.py:4174: SettingWithCopyWarning: \n",
            "A value is trying to be set on a copy of a slice from a DataFrame\n",
            "\n",
            "See the caveats in the documentation: https://pandas.pydata.org/pandas-docs/stable/user_guide/indexing.html#returning-a-view-versus-a-copy\n",
            "  errors=errors,\n"
          ],
          "name": "stderr"
        },
        {
          "output_type": "execute_result",
          "data": {
            "text/html": [
              "<div>\n",
              "<style scoped>\n",
              "    .dataframe tbody tr th:only-of-type {\n",
              "        vertical-align: middle;\n",
              "    }\n",
              "\n",
              "    .dataframe tbody tr th {\n",
              "        vertical-align: top;\n",
              "    }\n",
              "\n",
              "    .dataframe thead th {\n",
              "        text-align: right;\n",
              "    }\n",
              "</style>\n",
              "<table border=\"1\" class=\"dataframe\">\n",
              "  <thead>\n",
              "    <tr style=\"text-align: right;\">\n",
              "      <th></th>\n",
              "      <th>date</th>\n",
              "      <th>home_team</th>\n",
              "      <th>away_team</th>\n",
              "      <th>home_score</th>\n",
              "      <th>away_score</th>\n",
              "      <th>tournament</th>\n",
              "      <th>neutral</th>\n",
              "      <th>rank</th>\n",
              "    </tr>\n",
              "  </thead>\n",
              "  <tbody>\n",
              "    <tr>\n",
              "      <th>17915</th>\n",
              "      <td>1993-08-08</td>\n",
              "      <td>Bolivia</td>\n",
              "      <td>Uruguay</td>\n",
              "      <td>3</td>\n",
              "      <td>1</td>\n",
              "      <td>FIFA World Cup qualification</td>\n",
              "      <td>False</td>\n",
              "      <td>59.0</td>\n",
              "    </tr>\n",
              "    <tr>\n",
              "      <th>17916</th>\n",
              "      <td>1993-08-08</td>\n",
              "      <td>Brazil</td>\n",
              "      <td>Mexico</td>\n",
              "      <td>1</td>\n",
              "      <td>1</td>\n",
              "      <td>Friendly</td>\n",
              "      <td>False</td>\n",
              "      <td>8.0</td>\n",
              "    </tr>\n",
              "    <tr>\n",
              "      <th>17917</th>\n",
              "      <td>1993-08-08</td>\n",
              "      <td>Ecuador</td>\n",
              "      <td>Venezuela</td>\n",
              "      <td>5</td>\n",
              "      <td>0</td>\n",
              "      <td>FIFA World Cup qualification</td>\n",
              "      <td>False</td>\n",
              "      <td>35.0</td>\n",
              "    </tr>\n",
              "    <tr>\n",
              "      <th>17918</th>\n",
              "      <td>1993-08-08</td>\n",
              "      <td>Guinea</td>\n",
              "      <td>Sierra Leone</td>\n",
              "      <td>1</td>\n",
              "      <td>0</td>\n",
              "      <td>Friendly</td>\n",
              "      <td>False</td>\n",
              "      <td>65.0</td>\n",
              "    </tr>\n",
              "    <tr>\n",
              "      <th>17919</th>\n",
              "      <td>1993-08-08</td>\n",
              "      <td>Paraguay</td>\n",
              "      <td>Argentina</td>\n",
              "      <td>1</td>\n",
              "      <td>3</td>\n",
              "      <td>FIFA World Cup qualification</td>\n",
              "      <td>False</td>\n",
              "      <td>67.0</td>\n",
              "    </tr>\n",
              "    <tr>\n",
              "      <th>...</th>\n",
              "      <td>...</td>\n",
              "      <td>...</td>\n",
              "      <td>...</td>\n",
              "      <td>...</td>\n",
              "      <td>...</td>\n",
              "      <td>...</td>\n",
              "      <td>...</td>\n",
              "      <td>...</td>\n",
              "    </tr>\n",
              "    <tr>\n",
              "      <th>39829</th>\n",
              "      <td>2018-06-07</td>\n",
              "      <td>Abkhazia</td>\n",
              "      <td>United Koreans in Japan</td>\n",
              "      <td>2</td>\n",
              "      <td>0</td>\n",
              "      <td>CONIFA World Football Cup</td>\n",
              "      <td>True</td>\n",
              "      <td>12.0</td>\n",
              "    </tr>\n",
              "    <tr>\n",
              "      <th>39830</th>\n",
              "      <td>2018-06-07</td>\n",
              "      <td>Barawa</td>\n",
              "      <td>Panjab</td>\n",
              "      <td>0</td>\n",
              "      <td>5</td>\n",
              "      <td>CONIFA World Football Cup</td>\n",
              "      <td>False</td>\n",
              "      <td>12.0</td>\n",
              "    </tr>\n",
              "    <tr>\n",
              "      <th>39831</th>\n",
              "      <td>2018-06-07</td>\n",
              "      <td>Cascadia</td>\n",
              "      <td>Western Armenia</td>\n",
              "      <td>4</td>\n",
              "      <td>0</td>\n",
              "      <td>CONIFA World Football Cup</td>\n",
              "      <td>True</td>\n",
              "      <td>12.0</td>\n",
              "    </tr>\n",
              "    <tr>\n",
              "      <th>39832</th>\n",
              "      <td>2018-06-07</td>\n",
              "      <td>Northern Cyprus</td>\n",
              "      <td>Padania</td>\n",
              "      <td>3</td>\n",
              "      <td>2</td>\n",
              "      <td>CONIFA World Football Cup</td>\n",
              "      <td>True</td>\n",
              "      <td>12.0</td>\n",
              "    </tr>\n",
              "    <tr>\n",
              "      <th>39833</th>\n",
              "      <td>2018-06-07</td>\n",
              "      <td>Kárpátalja</td>\n",
              "      <td>Székely Land</td>\n",
              "      <td>4</td>\n",
              "      <td>2</td>\n",
              "      <td>CONIFA World Football Cup</td>\n",
              "      <td>True</td>\n",
              "      <td>12.0</td>\n",
              "    </tr>\n",
              "  </tbody>\n",
              "</table>\n",
              "<p>950 rows × 8 columns</p>\n",
              "</div>"
            ],
            "text/plain": [
              "             date        home_team  ... neutral  rank\n",
              "17915  1993-08-08          Bolivia  ...   False  59.0\n",
              "17916  1993-08-08           Brazil  ...   False   8.0\n",
              "17917  1993-08-08          Ecuador  ...   False  35.0\n",
              "17918  1993-08-08           Guinea  ...   False  65.0\n",
              "17919  1993-08-08         Paraguay  ...   False  67.0\n",
              "...           ...              ...  ...     ...   ...\n",
              "39829  2018-06-07         Abkhazia  ...    True  12.0\n",
              "39830  2018-06-07           Barawa  ...   False  12.0\n",
              "39831  2018-06-07         Cascadia  ...    True  12.0\n",
              "39832  2018-06-07  Northern Cyprus  ...    True  12.0\n",
              "39833  2018-06-07       Kárpátalja  ...    True  12.0\n",
              "\n",
              "[950 rows x 8 columns]"
            ]
          },
          "metadata": {
            "tags": []
          },
          "execution_count": 78
        }
      ]
    },
    {
      "cell_type": "code",
      "metadata": {
        "colab": {
          "base_uri": "https://localhost:8080/"
        },
        "id": "mF8g1798KrAf",
        "outputId": "eb9fb2b4-236b-4b78-d181-a1e817a08276"
      },
      "source": [
        "fifa_clean.shape"
      ],
      "execution_count": null,
      "outputs": [
        {
          "output_type": "execute_result",
          "data": {
            "text/plain": [
              "(950, 8)"
            ]
          },
          "metadata": {
            "tags": []
          },
          "execution_count": 79
        }
      ]
    },
    {
      "cell_type": "code",
      "metadata": {
        "id": "Z7x8VQh-Ho_4"
      },
      "source": [
        "#adding another column named status for win, lose or draw.\n",
        "def status(cols):\n",
        "    home_score = cols[0]\n",
        "    away_score = cols[1]\n",
        "    \n",
        "    if home_score > away_score:\n",
        "      return 'Win'\n",
        "    elif home_score < away_score:\n",
        "      return 'Loss'\n",
        "\n",
        "    else:\n",
        "      return 'draw'"
      ],
      "execution_count": null,
      "outputs": []
    },
    {
      "cell_type": "code",
      "metadata": {
        "colab": {
          "base_uri": "https://localhost:8080/",
          "height": 518
        },
        "id": "VYF4plScICX7",
        "outputId": "d6657038-d132-4d59-b330-c27f29feea48"
      },
      "source": [
        "fifa_clean['status'] = fifa_clean[['home_score', 'away_score']].apply(status, axis=1)\n",
        "fifa_clean"
      ],
      "execution_count": null,
      "outputs": [
        {
          "output_type": "stream",
          "text": [
            "/usr/local/lib/python3.7/dist-packages/ipykernel_launcher.py:1: SettingWithCopyWarning: \n",
            "A value is trying to be set on a copy of a slice from a DataFrame.\n",
            "Try using .loc[row_indexer,col_indexer] = value instead\n",
            "\n",
            "See the caveats in the documentation: https://pandas.pydata.org/pandas-docs/stable/user_guide/indexing.html#returning-a-view-versus-a-copy\n",
            "  \"\"\"Entry point for launching an IPython kernel.\n"
          ],
          "name": "stderr"
        },
        {
          "output_type": "execute_result",
          "data": {
            "text/html": [
              "<div>\n",
              "<style scoped>\n",
              "    .dataframe tbody tr th:only-of-type {\n",
              "        vertical-align: middle;\n",
              "    }\n",
              "\n",
              "    .dataframe tbody tr th {\n",
              "        vertical-align: top;\n",
              "    }\n",
              "\n",
              "    .dataframe thead th {\n",
              "        text-align: right;\n",
              "    }\n",
              "</style>\n",
              "<table border=\"1\" class=\"dataframe\">\n",
              "  <thead>\n",
              "    <tr style=\"text-align: right;\">\n",
              "      <th></th>\n",
              "      <th>date</th>\n",
              "      <th>home_team</th>\n",
              "      <th>away_team</th>\n",
              "      <th>home_score</th>\n",
              "      <th>away_score</th>\n",
              "      <th>tournament</th>\n",
              "      <th>neutral</th>\n",
              "      <th>rank</th>\n",
              "      <th>status</th>\n",
              "    </tr>\n",
              "  </thead>\n",
              "  <tbody>\n",
              "    <tr>\n",
              "      <th>17915</th>\n",
              "      <td>1993-08-08</td>\n",
              "      <td>Bolivia</td>\n",
              "      <td>Uruguay</td>\n",
              "      <td>3</td>\n",
              "      <td>1</td>\n",
              "      <td>FIFA World Cup qualification</td>\n",
              "      <td>False</td>\n",
              "      <td>59.0</td>\n",
              "      <td>Win</td>\n",
              "    </tr>\n",
              "    <tr>\n",
              "      <th>17916</th>\n",
              "      <td>1993-08-08</td>\n",
              "      <td>Brazil</td>\n",
              "      <td>Mexico</td>\n",
              "      <td>1</td>\n",
              "      <td>1</td>\n",
              "      <td>Friendly</td>\n",
              "      <td>False</td>\n",
              "      <td>8.0</td>\n",
              "      <td>draw</td>\n",
              "    </tr>\n",
              "    <tr>\n",
              "      <th>17917</th>\n",
              "      <td>1993-08-08</td>\n",
              "      <td>Ecuador</td>\n",
              "      <td>Venezuela</td>\n",
              "      <td>5</td>\n",
              "      <td>0</td>\n",
              "      <td>FIFA World Cup qualification</td>\n",
              "      <td>False</td>\n",
              "      <td>35.0</td>\n",
              "      <td>Win</td>\n",
              "    </tr>\n",
              "    <tr>\n",
              "      <th>17918</th>\n",
              "      <td>1993-08-08</td>\n",
              "      <td>Guinea</td>\n",
              "      <td>Sierra Leone</td>\n",
              "      <td>1</td>\n",
              "      <td>0</td>\n",
              "      <td>Friendly</td>\n",
              "      <td>False</td>\n",
              "      <td>65.0</td>\n",
              "      <td>Win</td>\n",
              "    </tr>\n",
              "    <tr>\n",
              "      <th>17919</th>\n",
              "      <td>1993-08-08</td>\n",
              "      <td>Paraguay</td>\n",
              "      <td>Argentina</td>\n",
              "      <td>1</td>\n",
              "      <td>3</td>\n",
              "      <td>FIFA World Cup qualification</td>\n",
              "      <td>False</td>\n",
              "      <td>67.0</td>\n",
              "      <td>Loss</td>\n",
              "    </tr>\n",
              "    <tr>\n",
              "      <th>...</th>\n",
              "      <td>...</td>\n",
              "      <td>...</td>\n",
              "      <td>...</td>\n",
              "      <td>...</td>\n",
              "      <td>...</td>\n",
              "      <td>...</td>\n",
              "      <td>...</td>\n",
              "      <td>...</td>\n",
              "      <td>...</td>\n",
              "    </tr>\n",
              "    <tr>\n",
              "      <th>39829</th>\n",
              "      <td>2018-06-07</td>\n",
              "      <td>Abkhazia</td>\n",
              "      <td>United Koreans in Japan</td>\n",
              "      <td>2</td>\n",
              "      <td>0</td>\n",
              "      <td>CONIFA World Football Cup</td>\n",
              "      <td>True</td>\n",
              "      <td>12.0</td>\n",
              "      <td>Win</td>\n",
              "    </tr>\n",
              "    <tr>\n",
              "      <th>39830</th>\n",
              "      <td>2018-06-07</td>\n",
              "      <td>Barawa</td>\n",
              "      <td>Panjab</td>\n",
              "      <td>0</td>\n",
              "      <td>5</td>\n",
              "      <td>CONIFA World Football Cup</td>\n",
              "      <td>False</td>\n",
              "      <td>12.0</td>\n",
              "      <td>Loss</td>\n",
              "    </tr>\n",
              "    <tr>\n",
              "      <th>39831</th>\n",
              "      <td>2018-06-07</td>\n",
              "      <td>Cascadia</td>\n",
              "      <td>Western Armenia</td>\n",
              "      <td>4</td>\n",
              "      <td>0</td>\n",
              "      <td>CONIFA World Football Cup</td>\n",
              "      <td>True</td>\n",
              "      <td>12.0</td>\n",
              "      <td>Win</td>\n",
              "    </tr>\n",
              "    <tr>\n",
              "      <th>39832</th>\n",
              "      <td>2018-06-07</td>\n",
              "      <td>Northern Cyprus</td>\n",
              "      <td>Padania</td>\n",
              "      <td>3</td>\n",
              "      <td>2</td>\n",
              "      <td>CONIFA World Football Cup</td>\n",
              "      <td>True</td>\n",
              "      <td>12.0</td>\n",
              "      <td>Win</td>\n",
              "    </tr>\n",
              "    <tr>\n",
              "      <th>39833</th>\n",
              "      <td>2018-06-07</td>\n",
              "      <td>Kárpátalja</td>\n",
              "      <td>Székely Land</td>\n",
              "      <td>4</td>\n",
              "      <td>2</td>\n",
              "      <td>CONIFA World Football Cup</td>\n",
              "      <td>True</td>\n",
              "      <td>12.0</td>\n",
              "      <td>Win</td>\n",
              "    </tr>\n",
              "  </tbody>\n",
              "</table>\n",
              "<p>950 rows × 9 columns</p>\n",
              "</div>"
            ],
            "text/plain": [
              "             date        home_team  ...  rank  status\n",
              "17915  1993-08-08          Bolivia  ...  59.0     Win\n",
              "17916  1993-08-08           Brazil  ...   8.0    draw\n",
              "17917  1993-08-08          Ecuador  ...  35.0     Win\n",
              "17918  1993-08-08           Guinea  ...  65.0     Win\n",
              "17919  1993-08-08         Paraguay  ...  67.0    Loss\n",
              "...           ...              ...  ...   ...     ...\n",
              "39829  2018-06-07         Abkhazia  ...  12.0     Win\n",
              "39830  2018-06-07           Barawa  ...  12.0    Loss\n",
              "39831  2018-06-07         Cascadia  ...  12.0     Win\n",
              "39832  2018-06-07  Northern Cyprus  ...  12.0     Win\n",
              "39833  2018-06-07       Kárpátalja  ...  12.0     Win\n",
              "\n",
              "[950 rows x 9 columns]"
            ]
          },
          "metadata": {
            "tags": []
          },
          "execution_count": 81
        }
      ]
    },
    {
      "cell_type": "code",
      "metadata": {
        "colab": {
          "base_uri": "https://localhost:8080/"
        },
        "id": "W8xF9-70ml7f",
        "outputId": "ee8918a5-47d4-449c-c41c-83c8ca67f2b8"
      },
      "source": [
        "#changing date datatype from object to datetime\n",
        "fifa_clean['date'] = pd.to_datetime(fifa_clean['date'])\n",
        "fifa_clean.info()"
      ],
      "execution_count": null,
      "outputs": [
        {
          "output_type": "stream",
          "text": [
            "<class 'pandas.core.frame.DataFrame'>\n",
            "Int64Index: 950 entries, 17915 to 39833\n",
            "Data columns (total 9 columns):\n",
            " #   Column      Non-Null Count  Dtype         \n",
            "---  ------      --------------  -----         \n",
            " 0   date        950 non-null    datetime64[ns]\n",
            " 1   home_team   950 non-null    object        \n",
            " 2   away_team   950 non-null    object        \n",
            " 3   home_score  950 non-null    int64         \n",
            " 4   away_score  950 non-null    int64         \n",
            " 5   tournament  950 non-null    object        \n",
            " 6   neutral     950 non-null    bool          \n",
            " 7   rank        950 non-null    float64       \n",
            " 8   status      950 non-null    object        \n",
            "dtypes: bool(1), datetime64[ns](1), float64(1), int64(2), object(4)\n",
            "memory usage: 107.7+ KB\n"
          ],
          "name": "stdout"
        },
        {
          "output_type": "stream",
          "text": [
            "/usr/local/lib/python3.7/dist-packages/ipykernel_launcher.py:2: SettingWithCopyWarning: \n",
            "A value is trying to be set on a copy of a slice from a DataFrame.\n",
            "Try using .loc[row_indexer,col_indexer] = value instead\n",
            "\n",
            "See the caveats in the documentation: https://pandas.pydata.org/pandas-docs/stable/user_guide/indexing.html#returning-a-view-versus-a-copy\n",
            "  \n"
          ],
          "name": "stderr"
        }
      ]
    },
    {
      "cell_type": "code",
      "metadata": {
        "colab": {
          "base_uri": "https://localhost:8080/",
          "height": 1000
        },
        "id": "CA0RiikSGZaC",
        "outputId": "db8ae6e5-6b9a-4f39-f3f1-bcf2548289f9"
      },
      "source": [
        "#Checking for outliers\n",
        "col_names =['home_score','away_score', 'rank']\n",
        "\n",
        "fig, ax= plt.subplots(len(col_names), figsize=(8,40))\n",
        "\n",
        "for i, col_val in enumerate(col_names):\n",
        "  sns.boxplot(y= fifa_clean[col_val], ax=ax[i])\n",
        "  ax[i].set_title('Box plot - {}'.format(col_val), fontsize=10 )\n",
        "  ax[i].set_xlabel(col_val, fontsize=8)\n",
        "plt.show()"
      ],
      "execution_count": null,
      "outputs": [
        {
          "output_type": "display_data",
          "data": {
            "image/png": "[encoded data removed]",
            "text/plain": [
              "<Figure size 576x2880 with 3 Axes>"
            ]
          },
          "metadata": {
            "tags": [],
            "needs_background": "light"
          }
        }
      ]
    },
    {
      "cell_type": "code",
      "metadata": {
        "colab": {
          "base_uri": "https://localhost:8080/"
        },
        "id": "MLipyxCTWt-x",
        "outputId": "2a4472d9-15ad-4314-e173-238984956662"
      },
      "source": [
        "# Checking for outliers in the home score column\n",
        "\n",
        "Q1 = fifa_clean.home_score.quantile(0.25)\n",
        "Q3 = fifa_clean.home_score.quantile(0.75)\n",
        "\n",
        "IQR = Q3 - Q1\n",
        "\n",
        "outliers = ((fifa_clean.home_score < Q1 - 1.5 * IQR) | (fifa_clean.home_score > Q3 + 1.5 * IQR))\n",
        "outliers.value_counts()"
      ],
      "execution_count": null,
      "outputs": [
        {
          "output_type": "execute_result",
          "data": {
            "text/plain": [
              "False    921\n",
              "True      29\n",
              "Name: home_score, dtype: int64"
            ]
          },
          "metadata": {
            "tags": []
          },
          "execution_count": 84
        }
      ]
    },
    {
      "cell_type": "code",
      "metadata": {
        "colab": {
          "base_uri": "https://localhost:8080/"
        },
        "id": "m2IIqwc7XGwU",
        "outputId": "ef568b5a-9313-433c-f7ec-cbfdcb7eee24"
      },
      "source": [
        "# Checking for outliers in the away score column\n",
        "\n",
        "Q1 = fifa_clean.away_score.quantile(0.25)\n",
        "Q3 = fifa_clean.away_score.quantile(0.75)\n",
        "\n",
        "IQR = Q3 - Q1\n",
        "\n",
        "outliers = ((fifa_clean.away_score < Q1 - 1.5 * IQR) | (fifa_clean.home_score > Q3 + 1.5 * IQR))\n",
        "outliers.value_counts()"
      ],
      "execution_count": null,
      "outputs": [
        {
          "output_type": "execute_result",
          "data": {
            "text/plain": [
              "False    921\n",
              "True      29\n",
              "dtype: int64"
            ]
          },
          "metadata": {
            "tags": []
          },
          "execution_count": 85
        }
      ]
    },
    {
      "cell_type": "markdown",
      "metadata": {
        "id": "3OotjIDYXblK"
      },
      "source": [
        "There are equal amounts of outliears for home score and away score and they are not few so i would not remove them as i feel they might be viable submissions."
      ]
    },
    {
      "cell_type": "code",
      "metadata": {
        "id": "h7uyJgytYO6Q"
      },
      "source": [
        "#Anomalies\n",
        "\n",
        "#There were no anomalies in our dataset"
      ],
      "execution_count": null,
      "outputs": []
    },
    {
      "cell_type": "markdown",
      "metadata": {
        "id": "AmH0RHkULJfo"
      },
      "source": [
        "## 6. Exploratory Data Analysis"
      ]
    },
    {
      "cell_type": "code",
      "metadata": {
        "id": "OEvosbzpLLBh",
        "colab": {
          "base_uri": "https://localhost:8080/",
          "height": 295
        },
        "outputId": "0c4b03a2-246d-4e10-9934-55d83775f726"
      },
      "source": [
        "# Ploting the univariate summaries and recording our observations\n",
        "# sumarry statistics\n",
        "fifa_clean.describe()"
      ],
      "execution_count": null,
      "outputs": [
        {
          "output_type": "execute_result",
          "data": {
            "text/html": [
              "<div>\n",
              "<style scoped>\n",
              "    .dataframe tbody tr th:only-of-type {\n",
              "        vertical-align: middle;\n",
              "    }\n",
              "\n",
              "    .dataframe tbody tr th {\n",
              "        vertical-align: top;\n",
              "    }\n",
              "\n",
              "    .dataframe thead th {\n",
              "        text-align: right;\n",
              "    }\n",
              "</style>\n",
              "<table border=\"1\" class=\"dataframe\">\n",
              "  <thead>\n",
              "    <tr style=\"text-align: right;\">\n",
              "      <th></th>\n",
              "      <th>home_score</th>\n",
              "      <th>away_score</th>\n",
              "      <th>rank</th>\n",
              "    </tr>\n",
              "  </thead>\n",
              "  <tbody>\n",
              "    <tr>\n",
              "      <th>count</th>\n",
              "      <td>950.000000</td>\n",
              "      <td>950.000000</td>\n",
              "      <td>950.000000</td>\n",
              "    </tr>\n",
              "    <tr>\n",
              "      <th>mean</th>\n",
              "      <td>1.657895</td>\n",
              "      <td>1.042105</td>\n",
              "      <td>64.905263</td>\n",
              "    </tr>\n",
              "    <tr>\n",
              "      <th>std</th>\n",
              "      <td>1.918743</td>\n",
              "      <td>1.234521</td>\n",
              "      <td>48.075168</td>\n",
              "    </tr>\n",
              "    <tr>\n",
              "      <th>min</th>\n",
              "      <td>0.000000</td>\n",
              "      <td>0.000000</td>\n",
              "      <td>1.000000</td>\n",
              "    </tr>\n",
              "    <tr>\n",
              "      <th>25%</th>\n",
              "      <td>0.000000</td>\n",
              "      <td>0.000000</td>\n",
              "      <td>24.000000</td>\n",
              "    </tr>\n",
              "    <tr>\n",
              "      <th>50%</th>\n",
              "      <td>1.000000</td>\n",
              "      <td>1.000000</td>\n",
              "      <td>56.000000</td>\n",
              "    </tr>\n",
              "    <tr>\n",
              "      <th>75%</th>\n",
              "      <td>2.000000</td>\n",
              "      <td>2.000000</td>\n",
              "      <td>96.000000</td>\n",
              "    </tr>\n",
              "    <tr>\n",
              "      <th>max</th>\n",
              "      <td>31.000000</td>\n",
              "      <td>12.000000</td>\n",
              "      <td>201.000000</td>\n",
              "    </tr>\n",
              "  </tbody>\n",
              "</table>\n",
              "</div>"
            ],
            "text/plain": [
              "       home_score  away_score        rank\n",
              "count  950.000000  950.000000  950.000000\n",
              "mean     1.657895    1.042105   64.905263\n",
              "std      1.918743    1.234521   48.075168\n",
              "min      0.000000    0.000000    1.000000\n",
              "25%      0.000000    0.000000   24.000000\n",
              "50%      1.000000    1.000000   56.000000\n",
              "75%      2.000000    2.000000   96.000000\n",
              "max     31.000000   12.000000  201.000000"
            ]
          },
          "metadata": {
            "tags": []
          },
          "execution_count": 86
        }
      ]
    },
    {
      "cell_type": "code",
      "metadata": {
        "colab": {
          "base_uri": "https://localhost:8080/"
        },
        "id": "oaN0_4fZcsar",
        "outputId": "aad8b20a-fd0d-4800-c8c0-84b158ad91c3"
      },
      "source": [
        "fifa_clean.info()"
      ],
      "execution_count": null,
      "outputs": [
        {
          "output_type": "stream",
          "text": [
            "<class 'pandas.core.frame.DataFrame'>\n",
            "Int64Index: 950 entries, 17915 to 39833\n",
            "Data columns (total 9 columns):\n",
            " #   Column      Non-Null Count  Dtype         \n",
            "---  ------      --------------  -----         \n",
            " 0   date        950 non-null    datetime64[ns]\n",
            " 1   home_team   950 non-null    object        \n",
            " 2   away_team   950 non-null    object        \n",
            " 3   home_score  950 non-null    int64         \n",
            " 4   away_score  950 non-null    int64         \n",
            " 5   tournament  950 non-null    object        \n",
            " 6   neutral     950 non-null    bool          \n",
            " 7   rank        950 non-null    float64       \n",
            " 8   status      950 non-null    object        \n",
            "dtypes: bool(1), datetime64[ns](1), float64(1), int64(2), object(4)\n",
            "memory usage: 107.7+ KB\n"
          ],
          "name": "stdout"
        }
      ]
    },
    {
      "cell_type": "code",
      "metadata": {
        "colab": {
          "base_uri": "https://localhost:8080/"
        },
        "id": "7-85HFYNblyu",
        "outputId": "2c741f22-0b5f-4fd3-faf4-b6769bd26399"
      },
      "source": [
        "# Creating a Frequency table of column type of gender categories \n",
        "# and using the value_counts() function\n",
        "fifa_clean.status.value_counts()"
      ],
      "execution_count": null,
      "outputs": [
        {
          "output_type": "execute_result",
          "data": {
            "text/plain": [
              "Win     462\n",
              "Loss    247\n",
              "draw    241\n",
              "Name: status, dtype: int64"
            ]
          },
          "metadata": {
            "tags": []
          },
          "execution_count": 88
        }
      ]
    },
    {
      "cell_type": "markdown",
      "metadata": {
        "id": "PF7saWRldyR5"
      },
      "source": [
        "There were more wins from home team"
      ]
    },
    {
      "cell_type": "code",
      "metadata": {
        "colab": {
          "base_uri": "https://localhost:8080/"
        },
        "id": "QMm2YZbgc2Nb",
        "outputId": "d3056796-b17e-43b2-895b-e5d9cb408fd0"
      },
      "source": [
        "fifa_clean.tournament.value_counts()"
      ],
      "execution_count": null,
      "outputs": [
        {
          "output_type": "execute_result",
          "data": {
            "text/plain": [
              "Friendly                                      600\n",
              "FIFA World Cup qualification                  153\n",
              "UEFA Euro qualification                        41\n",
              "AFC Asian Cup qualification                    37\n",
              "CONIFA World Football Cup                      15\n",
              "Cyprus International Tournament                 8\n",
              "AFF Championship                                7\n",
              "Gulf Cup                                        7\n",
              "Copa América                                    6\n",
              "CECAFA Cup                                      6\n",
              "AFC Asian Cup                                   6\n",
              "African Nations Championship                    5\n",
              "African Cup of Nations qualification            5\n",
              "CFU Caribbean Cup                               5\n",
              "Gold Cup qualification                          5\n",
              "Windward Islands Tournament                     4\n",
              "SAFF Cup                                        4\n",
              "African Cup of Nations                          4\n",
              "King's Cup                                      3\n",
              "Viva World Cup                                  3\n",
              "United Arab Emirates Friendship Tournament      3\n",
              "Malta International Tournament                  3\n",
              "EAFF Championship                               2\n",
              "Confederations Cup                              2\n",
              "Oceania Nations Cup                             2\n",
              "UNCAF Cup                                       2\n",
              "Prime Minister's Cup                            2\n",
              "Merdeka Tournament                              2\n",
              "COSAFA Cup                                      1\n",
              "AFC Challenge Cup qualification                 1\n",
              "Nehru Cup                                       1\n",
              "Copa del Pacífico                               1\n",
              "UAFA Cup                                        1\n",
              "Millennium Cup                                  1\n",
              "Intercontinental Cup                            1\n",
              "CFU Caribbean Cup qualification                 1\n",
              "Name: tournament, dtype: int64"
            ]
          },
          "metadata": {
            "tags": []
          },
          "execution_count": 90
        }
      ]
    },
    {
      "cell_type": "markdown",
      "metadata": {
        "id": "0OtbB042eJNn"
      },
      "source": [
        "There were more Friendly games than the rest type of tournament"
      ]
    },
    {
      "cell_type": "code",
      "metadata": {
        "colab": {
          "base_uri": "https://localhost:8080/",
          "height": 364
        },
        "id": "8jjwryJlfdFY",
        "outputId": "02429907-82b0-47c9-9d7f-37b626649279"
      },
      "source": [
        "\n",
        "# status type bar graph \n",
        "\n",
        "plt.figure(figsize=(10,5))\n",
        "fifa_clean['status'].value_counts().plot(kind='bar')\n",
        "plt.ylabel('counts')\n",
        "plt.title('Status of the game')\n",
        "plt.xlabel('status');\n",
        "# there are more wins"
      ],
      "execution_count": null,
      "outputs": [
        {
          "output_type": "display_data",
          "data": {
            "image/png": "[encoded data removed]",
            "text/plain": [
              "<Figure size 720x360 with 1 Axes>"
            ]
          },
          "metadata": {
            "tags": [],
            "needs_background": "light"
          }
        }
      ]
    },
    {
      "cell_type": "code",
      "metadata": {
        "colab": {
          "base_uri": "https://localhost:8080/",
          "height": 564
        },
        "id": "BAoKWZu0f6Mc",
        "outputId": "3fd387da-f03f-425e-81c9-4fa58d84a96a"
      },
      "source": [
        "# tournament type bar graph \n",
        "\n",
        "plt.figure(figsize=(10,5))\n",
        "fifa_clean['tournament'].value_counts().plot(kind='bar')\n",
        "plt.ylabel('counts')\n",
        "plt.title('Tournament Type')\n",
        "plt.xlabel('tournament');\n",
        "#the most played tournament game is friendly."
      ],
      "execution_count": null,
      "outputs": [
        {
          "output_type": "display_data",
          "data": {
            "image/png": "[encoded data removed]",
            "text/plain": [
              "<Figure size 720x360 with 1 Axes>"
            ]
          },
          "metadata": {
            "tags": [],
            "needs_background": "light"
          }
        }
      ]
    },
    {
      "cell_type": "markdown",
      "metadata": {
        "id": "W37uHmyyaL3F"
      },
      "source": [
        "## 7. Regression"
      ]
    },
    {
      "cell_type": "markdown",
      "metadata": {
        "id": "wIabw1BmivcK"
      },
      "source": [
        "### a). Polynomial regression analysis"
      ]
    },
    {
      "cell_type": "markdown",
      "metadata": {
        "id": "GdQa8kGJjIfT"
      },
      "source": [
        "LDA"
      ]
    },
    {
      "cell_type": "code",
      "metadata": {
        "colab": {
          "base_uri": "https://localhost:8080/",
          "height": 110
        },
        "id": "pRk22xr7an3n",
        "outputId": "6d34dd17-aacb-4be9-e360-8d4d470bd249"
      },
      "source": [
        "fifa_clean.head(2)"
      ],
      "execution_count": null,
      "outputs": [
        {
          "output_type": "execute_result",
          "data": {
            "text/html": [
              "<div>\n",
              "<style scoped>\n",
              "    .dataframe tbody tr th:only-of-type {\n",
              "        vertical-align: middle;\n",
              "    }\n",
              "\n",
              "    .dataframe tbody tr th {\n",
              "        vertical-align: top;\n",
              "    }\n",
              "\n",
              "    .dataframe thead th {\n",
              "        text-align: right;\n",
              "    }\n",
              "</style>\n",
              "<table border=\"1\" class=\"dataframe\">\n",
              "  <thead>\n",
              "    <tr style=\"text-align: right;\">\n",
              "      <th></th>\n",
              "      <th>date</th>\n",
              "      <th>home_team</th>\n",
              "      <th>away_team</th>\n",
              "      <th>home_score</th>\n",
              "      <th>away_score</th>\n",
              "      <th>tournament</th>\n",
              "      <th>neutral</th>\n",
              "      <th>rank</th>\n",
              "      <th>status</th>\n",
              "    </tr>\n",
              "  </thead>\n",
              "  <tbody>\n",
              "    <tr>\n",
              "      <th>17915</th>\n",
              "      <td>1993-08-08</td>\n",
              "      <td>Bolivia</td>\n",
              "      <td>Uruguay</td>\n",
              "      <td>3</td>\n",
              "      <td>1</td>\n",
              "      <td>FIFA World Cup qualification</td>\n",
              "      <td>False</td>\n",
              "      <td>59.0</td>\n",
              "      <td>Win</td>\n",
              "    </tr>\n",
              "    <tr>\n",
              "      <th>17916</th>\n",
              "      <td>1993-08-08</td>\n",
              "      <td>Brazil</td>\n",
              "      <td>Mexico</td>\n",
              "      <td>1</td>\n",
              "      <td>1</td>\n",
              "      <td>Friendly</td>\n",
              "      <td>False</td>\n",
              "      <td>8.0</td>\n",
              "      <td>draw</td>\n",
              "    </tr>\n",
              "  </tbody>\n",
              "</table>\n",
              "</div>"
            ],
            "text/plain": [
              "            date home_team away_team  ...  neutral  rank status\n",
              "17915 1993-08-08   Bolivia   Uruguay  ...    False  59.0    Win\n",
              "17916 1993-08-08    Brazil    Mexico  ...    False   8.0   draw\n",
              "\n",
              "[2 rows x 9 columns]"
            ]
          },
          "metadata": {
            "tags": []
          },
          "execution_count": 94
        }
      ]
    },
    {
      "cell_type": "code",
      "metadata": {
        "colab": {
          "base_uri": "https://localhost:8080/",
          "height": 417
        },
        "id": "TihZynGxg1wF",
        "outputId": "68378d6e-9f23-4150-f937-e65f2b50566a"
      },
      "source": [
        "#creating a dataframe for home team,in order to have its rank\n",
        "fifa_home= fifa_clean[fifa_clean['status']!= 'Loss']\n",
        "fifa_home"
      ],
      "execution_count": null,
      "outputs": [
        {
          "output_type": "execute_result",
          "data": {
            "text/html": [
              "<div>\n",
              "<style scoped>\n",
              "    .dataframe tbody tr th:only-of-type {\n",
              "        vertical-align: middle;\n",
              "    }\n",
              "\n",
              "    .dataframe tbody tr th {\n",
              "        vertical-align: top;\n",
              "    }\n",
              "\n",
              "    .dataframe thead th {\n",
              "        text-align: right;\n",
              "    }\n",
              "</style>\n",
              "<table border=\"1\" class=\"dataframe\">\n",
              "  <thead>\n",
              "    <tr style=\"text-align: right;\">\n",
              "      <th></th>\n",
              "      <th>date</th>\n",
              "      <th>home_team</th>\n",
              "      <th>away_team</th>\n",
              "      <th>home_score</th>\n",
              "      <th>away_score</th>\n",
              "      <th>tournament</th>\n",
              "      <th>neutral</th>\n",
              "      <th>rank</th>\n",
              "      <th>status</th>\n",
              "    </tr>\n",
              "  </thead>\n",
              "  <tbody>\n",
              "    <tr>\n",
              "      <th>17915</th>\n",
              "      <td>1993-08-08</td>\n",
              "      <td>Bolivia</td>\n",
              "      <td>Uruguay</td>\n",
              "      <td>3</td>\n",
              "      <td>1</td>\n",
              "      <td>FIFA World Cup qualification</td>\n",
              "      <td>False</td>\n",
              "      <td>59.0</td>\n",
              "      <td>Win</td>\n",
              "    </tr>\n",
              "    <tr>\n",
              "      <th>17916</th>\n",
              "      <td>1993-08-08</td>\n",
              "      <td>Brazil</td>\n",
              "      <td>Mexico</td>\n",
              "      <td>1</td>\n",
              "      <td>1</td>\n",
              "      <td>Friendly</td>\n",
              "      <td>False</td>\n",
              "      <td>8.0</td>\n",
              "      <td>draw</td>\n",
              "    </tr>\n",
              "    <tr>\n",
              "      <th>17917</th>\n",
              "      <td>1993-08-08</td>\n",
              "      <td>Ecuador</td>\n",
              "      <td>Venezuela</td>\n",
              "      <td>5</td>\n",
              "      <td>0</td>\n",
              "      <td>FIFA World Cup qualification</td>\n",
              "      <td>False</td>\n",
              "      <td>35.0</td>\n",
              "      <td>Win</td>\n",
              "    </tr>\n",
              "    <tr>\n",
              "      <th>17918</th>\n",
              "      <td>1993-08-08</td>\n",
              "      <td>Guinea</td>\n",
              "      <td>Sierra Leone</td>\n",
              "      <td>1</td>\n",
              "      <td>0</td>\n",
              "      <td>Friendly</td>\n",
              "      <td>False</td>\n",
              "      <td>65.0</td>\n",
              "      <td>Win</td>\n",
              "    </tr>\n",
              "    <tr>\n",
              "      <th>17921</th>\n",
              "      <td>1993-08-08</td>\n",
              "      <td>Zimbabwe</td>\n",
              "      <td>Eswatini</td>\n",
              "      <td>2</td>\n",
              "      <td>0</td>\n",
              "      <td>Friendly</td>\n",
              "      <td>False</td>\n",
              "      <td>50.0</td>\n",
              "      <td>Win</td>\n",
              "    </tr>\n",
              "    <tr>\n",
              "      <th>...</th>\n",
              "      <td>...</td>\n",
              "      <td>...</td>\n",
              "      <td>...</td>\n",
              "      <td>...</td>\n",
              "      <td>...</td>\n",
              "      <td>...</td>\n",
              "      <td>...</td>\n",
              "      <td>...</td>\n",
              "      <td>...</td>\n",
              "    </tr>\n",
              "    <tr>\n",
              "      <th>39827</th>\n",
              "      <td>2018-06-07</td>\n",
              "      <td>Tamil Eelam</td>\n",
              "      <td>Tuvalu</td>\n",
              "      <td>4</td>\n",
              "      <td>3</td>\n",
              "      <td>CONIFA World Football Cup</td>\n",
              "      <td>True</td>\n",
              "      <td>12.0</td>\n",
              "      <td>Win</td>\n",
              "    </tr>\n",
              "    <tr>\n",
              "      <th>39829</th>\n",
              "      <td>2018-06-07</td>\n",
              "      <td>Abkhazia</td>\n",
              "      <td>United Koreans in Japan</td>\n",
              "      <td>2</td>\n",
              "      <td>0</td>\n",
              "      <td>CONIFA World Football Cup</td>\n",
              "      <td>True</td>\n",
              "      <td>12.0</td>\n",
              "      <td>Win</td>\n",
              "    </tr>\n",
              "    <tr>\n",
              "      <th>39831</th>\n",
              "      <td>2018-06-07</td>\n",
              "      <td>Cascadia</td>\n",
              "      <td>Western Armenia</td>\n",
              "      <td>4</td>\n",
              "      <td>0</td>\n",
              "      <td>CONIFA World Football Cup</td>\n",
              "      <td>True</td>\n",
              "      <td>12.0</td>\n",
              "      <td>Win</td>\n",
              "    </tr>\n",
              "    <tr>\n",
              "      <th>39832</th>\n",
              "      <td>2018-06-07</td>\n",
              "      <td>Northern Cyprus</td>\n",
              "      <td>Padania</td>\n",
              "      <td>3</td>\n",
              "      <td>2</td>\n",
              "      <td>CONIFA World Football Cup</td>\n",
              "      <td>True</td>\n",
              "      <td>12.0</td>\n",
              "      <td>Win</td>\n",
              "    </tr>\n",
              "    <tr>\n",
              "      <th>39833</th>\n",
              "      <td>2018-06-07</td>\n",
              "      <td>Kárpátalja</td>\n",
              "      <td>Székely Land</td>\n",
              "      <td>4</td>\n",
              "      <td>2</td>\n",
              "      <td>CONIFA World Football Cup</td>\n",
              "      <td>True</td>\n",
              "      <td>12.0</td>\n",
              "      <td>Win</td>\n",
              "    </tr>\n",
              "  </tbody>\n",
              "</table>\n",
              "<p>703 rows × 9 columns</p>\n",
              "</div>"
            ],
            "text/plain": [
              "            date        home_team  ...  rank  status\n",
              "17915 1993-08-08          Bolivia  ...  59.0     Win\n",
              "17916 1993-08-08           Brazil  ...   8.0    draw\n",
              "17917 1993-08-08          Ecuador  ...  35.0     Win\n",
              "17918 1993-08-08           Guinea  ...  65.0     Win\n",
              "17921 1993-08-08         Zimbabwe  ...  50.0     Win\n",
              "...          ...              ...  ...   ...     ...\n",
              "39827 2018-06-07      Tamil Eelam  ...  12.0     Win\n",
              "39829 2018-06-07         Abkhazia  ...  12.0     Win\n",
              "39831 2018-06-07         Cascadia  ...  12.0     Win\n",
              "39832 2018-06-07  Northern Cyprus  ...  12.0     Win\n",
              "39833 2018-06-07       Kárpátalja  ...  12.0     Win\n",
              "\n",
              "[703 rows x 9 columns]"
            ]
          },
          "metadata": {
            "tags": []
          },
          "execution_count": 95
        }
      ]
    },
    {
      "cell_type": "code",
      "metadata": {
        "colab": {
          "base_uri": "https://localhost:8080/",
          "height": 417
        },
        "id": "wGt5qUCtin7c",
        "outputId": "b27c2940-ffbf-480c-b92b-4c78fa6d54af"
      },
      "source": [
        "#creating a dataframe for Away team,in order to have its rank\n",
        "fifa_away= fifa_clean[fifa_clean['status']!= 'Win']\n",
        "fifa_away"
      ],
      "execution_count": null,
      "outputs": [
        {
          "output_type": "execute_result",
          "data": {
            "text/html": [
              "<div>\n",
              "<style scoped>\n",
              "    .dataframe tbody tr th:only-of-type {\n",
              "        vertical-align: middle;\n",
              "    }\n",
              "\n",
              "    .dataframe tbody tr th {\n",
              "        vertical-align: top;\n",
              "    }\n",
              "\n",
              "    .dataframe thead th {\n",
              "        text-align: right;\n",
              "    }\n",
              "</style>\n",
              "<table border=\"1\" class=\"dataframe\">\n",
              "  <thead>\n",
              "    <tr style=\"text-align: right;\">\n",
              "      <th></th>\n",
              "      <th>date</th>\n",
              "      <th>home_team</th>\n",
              "      <th>away_team</th>\n",
              "      <th>home_score</th>\n",
              "      <th>away_score</th>\n",
              "      <th>tournament</th>\n",
              "      <th>neutral</th>\n",
              "      <th>rank</th>\n",
              "      <th>status</th>\n",
              "    </tr>\n",
              "  </thead>\n",
              "  <tbody>\n",
              "    <tr>\n",
              "      <th>17916</th>\n",
              "      <td>1993-08-08</td>\n",
              "      <td>Brazil</td>\n",
              "      <td>Mexico</td>\n",
              "      <td>1</td>\n",
              "      <td>1</td>\n",
              "      <td>Friendly</td>\n",
              "      <td>False</td>\n",
              "      <td>8.0</td>\n",
              "      <td>draw</td>\n",
              "    </tr>\n",
              "    <tr>\n",
              "      <th>17919</th>\n",
              "      <td>1993-08-08</td>\n",
              "      <td>Paraguay</td>\n",
              "      <td>Argentina</td>\n",
              "      <td>1</td>\n",
              "      <td>3</td>\n",
              "      <td>FIFA World Cup qualification</td>\n",
              "      <td>False</td>\n",
              "      <td>67.0</td>\n",
              "      <td>Loss</td>\n",
              "    </tr>\n",
              "    <tr>\n",
              "      <th>17920</th>\n",
              "      <td>1993-08-08</td>\n",
              "      <td>Peru</td>\n",
              "      <td>Colombia</td>\n",
              "      <td>0</td>\n",
              "      <td>1</td>\n",
              "      <td>FIFA World Cup qualification</td>\n",
              "      <td>False</td>\n",
              "      <td>70.0</td>\n",
              "      <td>Loss</td>\n",
              "    </tr>\n",
              "    <tr>\n",
              "      <th>17977</th>\n",
              "      <td>1993-09-23</td>\n",
              "      <td>Saudi Arabia</td>\n",
              "      <td>Costa Rica</td>\n",
              "      <td>1</td>\n",
              "      <td>2</td>\n",
              "      <td>Friendly</td>\n",
              "      <td>False</td>\n",
              "      <td>44.0</td>\n",
              "      <td>Loss</td>\n",
              "    </tr>\n",
              "    <tr>\n",
              "      <th>18019</th>\n",
              "      <td>1993-10-22</td>\n",
              "      <td>Iran</td>\n",
              "      <td>Iraq</td>\n",
              "      <td>1</td>\n",
              "      <td>2</td>\n",
              "      <td>FIFA World Cup qualification</td>\n",
              "      <td>True</td>\n",
              "      <td>51.0</td>\n",
              "      <td>Loss</td>\n",
              "    </tr>\n",
              "    <tr>\n",
              "      <th>...</th>\n",
              "      <td>...</td>\n",
              "      <td>...</td>\n",
              "      <td>...</td>\n",
              "      <td>...</td>\n",
              "      <td>...</td>\n",
              "      <td>...</td>\n",
              "      <td>...</td>\n",
              "      <td>...</td>\n",
              "      <td>...</td>\n",
              "    </tr>\n",
              "    <tr>\n",
              "      <th>39823</th>\n",
              "      <td>2018-06-07</td>\n",
              "      <td>South Korea</td>\n",
              "      <td>Bolivia</td>\n",
              "      <td>0</td>\n",
              "      <td>0</td>\n",
              "      <td>Friendly</td>\n",
              "      <td>True</td>\n",
              "      <td>26.0</td>\n",
              "      <td>draw</td>\n",
              "    </tr>\n",
              "    <tr>\n",
              "      <th>39824</th>\n",
              "      <td>2018-06-07</td>\n",
              "      <td>Iceland</td>\n",
              "      <td>Ghana</td>\n",
              "      <td>2</td>\n",
              "      <td>2</td>\n",
              "      <td>Friendly</td>\n",
              "      <td>False</td>\n",
              "      <td>22.0</td>\n",
              "      <td>draw</td>\n",
              "    </tr>\n",
              "    <tr>\n",
              "      <th>39826</th>\n",
              "      <td>2018-06-07</td>\n",
              "      <td>India</td>\n",
              "      <td>New Zealand</td>\n",
              "      <td>1</td>\n",
              "      <td>2</td>\n",
              "      <td>Intercontinental Cup</td>\n",
              "      <td>False</td>\n",
              "      <td>97.0</td>\n",
              "      <td>Loss</td>\n",
              "    </tr>\n",
              "    <tr>\n",
              "      <th>39828</th>\n",
              "      <td>2018-06-07</td>\n",
              "      <td>Tibet</td>\n",
              "      <td>Kabylia</td>\n",
              "      <td>1</td>\n",
              "      <td>8</td>\n",
              "      <td>CONIFA World Football Cup</td>\n",
              "      <td>True</td>\n",
              "      <td>12.0</td>\n",
              "      <td>Loss</td>\n",
              "    </tr>\n",
              "    <tr>\n",
              "      <th>39830</th>\n",
              "      <td>2018-06-07</td>\n",
              "      <td>Barawa</td>\n",
              "      <td>Panjab</td>\n",
              "      <td>0</td>\n",
              "      <td>5</td>\n",
              "      <td>CONIFA World Football Cup</td>\n",
              "      <td>False</td>\n",
              "      <td>12.0</td>\n",
              "      <td>Loss</td>\n",
              "    </tr>\n",
              "  </tbody>\n",
              "</table>\n",
              "<p>488 rows × 9 columns</p>\n",
              "</div>"
            ],
            "text/plain": [
              "            date     home_team    away_team  ...  neutral  rank status\n",
              "17916 1993-08-08        Brazil       Mexico  ...    False   8.0   draw\n",
              "17919 1993-08-08      Paraguay    Argentina  ...    False  67.0   Loss\n",
              "17920 1993-08-08          Peru     Colombia  ...    False  70.0   Loss\n",
              "17977 1993-09-23  Saudi Arabia   Costa Rica  ...    False  44.0   Loss\n",
              "18019 1993-10-22          Iran         Iraq  ...     True  51.0   Loss\n",
              "...          ...           ...          ...  ...      ...   ...    ...\n",
              "39823 2018-06-07   South Korea      Bolivia  ...     True  26.0   draw\n",
              "39824 2018-06-07       Iceland        Ghana  ...    False  22.0   draw\n",
              "39826 2018-06-07         India  New Zealand  ...    False  97.0   Loss\n",
              "39828 2018-06-07         Tibet      Kabylia  ...     True  12.0   Loss\n",
              "39830 2018-06-07        Barawa       Panjab  ...    False  12.0   Loss\n",
              "\n",
              "[488 rows x 9 columns]"
            ]
          },
          "metadata": {
            "tags": []
          },
          "execution_count": 96
        }
      ]
    },
    {
      "cell_type": "code",
      "metadata": {
        "colab": {
          "base_uri": "https://localhost:8080/"
        },
        "id": "sAw53SKC0gDC",
        "outputId": "69852ea9-aeb5-445e-db91-0e8bca708966"
      },
      "source": [
        "Fifa_encode =fifa_clean.copy(deep=True)\n",
        "Fifa_encode['neutral']=Fifa_encode['neutral'].astype('category')\n",
        "#Fifa_encode['status']=Fifa_encode['status'].astype('category')\n",
        "Fifa_encode['tournament']=Fifa_encode['tournament'].astype('category')\n",
        "Fifa_encode.info()"
      ],
      "execution_count": null,
      "outputs": [
        {
          "output_type": "stream",
          "text": [
            "<class 'pandas.core.frame.DataFrame'>\n",
            "Int64Index: 950 entries, 17915 to 39833\n",
            "Data columns (total 9 columns):\n",
            " #   Column      Non-Null Count  Dtype         \n",
            "---  ------      --------------  -----         \n",
            " 0   date        950 non-null    datetime64[ns]\n",
            " 1   home_team   950 non-null    object        \n",
            " 2   away_team   950 non-null    object        \n",
            " 3   home_score  950 non-null    int64         \n",
            " 4   away_score  950 non-null    int64         \n",
            " 5   tournament  950 non-null    category      \n",
            " 6   neutral     950 non-null    category      \n",
            " 7   rank        950 non-null    float64       \n",
            " 8   status      950 non-null    object        \n",
            "dtypes: category(2), datetime64[ns](1), float64(1), int64(2), object(3)\n",
            "memory usage: 102.9+ KB\n"
          ],
          "name": "stdout"
        }
      ]
    },
    {
      "cell_type": "code",
      "metadata": {
        "colab": {
          "base_uri": "https://localhost:8080/",
          "height": 203
        },
        "id": "22PezBj33xt6",
        "outputId": "9dfa14c3-2050-4218-8623-2262a58e7982"
      },
      "source": [
        "#label encoding the categorical data\n",
        "from sklearn.preprocessing import LabelEncoder\n",
        "\n",
        "LabelEncoder =LabelEncoder()\n",
        "\n",
        "Fifa_encode['neutral']=LabelEncoder.fit_transform(Fifa_encode['neutral'])\n",
        "#Fifa_encode['status']=LabelEncoder.fit_transform(Fifa_encode['status'])\n",
        "Fifa_encode['tournament']=LabelEncoder.fit_transform(Fifa_encode['tournament'])\n",
        "Fifa_encode.head()"
      ],
      "execution_count": null,
      "outputs": [
        {
          "output_type": "execute_result",
          "data": {
            "text/html": [
              "<div>\n",
              "<style scoped>\n",
              "    .dataframe tbody tr th:only-of-type {\n",
              "        vertical-align: middle;\n",
              "    }\n",
              "\n",
              "    .dataframe tbody tr th {\n",
              "        vertical-align: top;\n",
              "    }\n",
              "\n",
              "    .dataframe thead th {\n",
              "        text-align: right;\n",
              "    }\n",
              "</style>\n",
              "<table border=\"1\" class=\"dataframe\">\n",
              "  <thead>\n",
              "    <tr style=\"text-align: right;\">\n",
              "      <th></th>\n",
              "      <th>date</th>\n",
              "      <th>home_team</th>\n",
              "      <th>away_team</th>\n",
              "      <th>home_score</th>\n",
              "      <th>away_score</th>\n",
              "      <th>tournament</th>\n",
              "      <th>neutral</th>\n",
              "      <th>rank</th>\n",
              "      <th>status</th>\n",
              "    </tr>\n",
              "  </thead>\n",
              "  <tbody>\n",
              "    <tr>\n",
              "      <th>17915</th>\n",
              "      <td>1993-08-08</td>\n",
              "      <td>Bolivia</td>\n",
              "      <td>Uruguay</td>\n",
              "      <td>3</td>\n",
              "      <td>1</td>\n",
              "      <td>17</td>\n",
              "      <td>0</td>\n",
              "      <td>59.0</td>\n",
              "      <td>Win</td>\n",
              "    </tr>\n",
              "    <tr>\n",
              "      <th>17916</th>\n",
              "      <td>1993-08-08</td>\n",
              "      <td>Brazil</td>\n",
              "      <td>Mexico</td>\n",
              "      <td>1</td>\n",
              "      <td>1</td>\n",
              "      <td>18</td>\n",
              "      <td>0</td>\n",
              "      <td>8.0</td>\n",
              "      <td>draw</td>\n",
              "    </tr>\n",
              "    <tr>\n",
              "      <th>17917</th>\n",
              "      <td>1993-08-08</td>\n",
              "      <td>Ecuador</td>\n",
              "      <td>Venezuela</td>\n",
              "      <td>5</td>\n",
              "      <td>0</td>\n",
              "      <td>17</td>\n",
              "      <td>0</td>\n",
              "      <td>35.0</td>\n",
              "      <td>Win</td>\n",
              "    </tr>\n",
              "    <tr>\n",
              "      <th>17918</th>\n",
              "      <td>1993-08-08</td>\n",
              "      <td>Guinea</td>\n",
              "      <td>Sierra Leone</td>\n",
              "      <td>1</td>\n",
              "      <td>0</td>\n",
              "      <td>18</td>\n",
              "      <td>0</td>\n",
              "      <td>65.0</td>\n",
              "      <td>Win</td>\n",
              "    </tr>\n",
              "    <tr>\n",
              "      <th>17919</th>\n",
              "      <td>1993-08-08</td>\n",
              "      <td>Paraguay</td>\n",
              "      <td>Argentina</td>\n",
              "      <td>1</td>\n",
              "      <td>3</td>\n",
              "      <td>17</td>\n",
              "      <td>0</td>\n",
              "      <td>67.0</td>\n",
              "      <td>Loss</td>\n",
              "    </tr>\n",
              "  </tbody>\n",
              "</table>\n",
              "</div>"
            ],
            "text/plain": [
              "            date home_team     away_team  ...  neutral  rank  status\n",
              "17915 1993-08-08   Bolivia       Uruguay  ...        0  59.0     Win\n",
              "17916 1993-08-08    Brazil        Mexico  ...        0   8.0    draw\n",
              "17917 1993-08-08   Ecuador     Venezuela  ...        0  35.0     Win\n",
              "17918 1993-08-08    Guinea  Sierra Leone  ...        0  65.0     Win\n",
              "17919 1993-08-08  Paraguay     Argentina  ...        0  67.0    Loss\n",
              "\n",
              "[5 rows x 9 columns]"
            ]
          },
          "metadata": {
            "tags": []
          },
          "execution_count": 98
        }
      ]
    },
    {
      "cell_type": "code",
      "metadata": {
        "colab": {
          "base_uri": "https://localhost:8080/",
          "height": 417
        },
        "id": "cAhIb2p-5DAq",
        "outputId": "80aaadb6-0574-43ad-c965-5bf1a01f5738"
      },
      "source": [
        "#separating target label; 'status' from other features\n",
        "feature = Fifa_encode.drop(['home_score','status', 'date', 'home_team', 'away_team'], 1)\n",
        "fifa_label = Fifa_encode['home_score']\n",
        "feature"
      ],
      "execution_count": null,
      "outputs": [
        {
          "output_type": "execute_result",
          "data": {
            "text/html": [
              "<div>\n",
              "<style scoped>\n",
              "    .dataframe tbody tr th:only-of-type {\n",
              "        vertical-align: middle;\n",
              "    }\n",
              "\n",
              "    .dataframe tbody tr th {\n",
              "        vertical-align: top;\n",
              "    }\n",
              "\n",
              "    .dataframe thead th {\n",
              "        text-align: right;\n",
              "    }\n",
              "</style>\n",
              "<table border=\"1\" class=\"dataframe\">\n",
              "  <thead>\n",
              "    <tr style=\"text-align: right;\">\n",
              "      <th></th>\n",
              "      <th>away_score</th>\n",
              "      <th>tournament</th>\n",
              "      <th>neutral</th>\n",
              "      <th>rank</th>\n",
              "    </tr>\n",
              "  </thead>\n",
              "  <tbody>\n",
              "    <tr>\n",
              "      <th>17915</th>\n",
              "      <td>1</td>\n",
              "      <td>17</td>\n",
              "      <td>0</td>\n",
              "      <td>59.0</td>\n",
              "    </tr>\n",
              "    <tr>\n",
              "      <th>17916</th>\n",
              "      <td>1</td>\n",
              "      <td>18</td>\n",
              "      <td>0</td>\n",
              "      <td>8.0</td>\n",
              "    </tr>\n",
              "    <tr>\n",
              "      <th>17917</th>\n",
              "      <td>0</td>\n",
              "      <td>17</td>\n",
              "      <td>0</td>\n",
              "      <td>35.0</td>\n",
              "    </tr>\n",
              "    <tr>\n",
              "      <th>17918</th>\n",
              "      <td>0</td>\n",
              "      <td>18</td>\n",
              "      <td>0</td>\n",
              "      <td>65.0</td>\n",
              "    </tr>\n",
              "    <tr>\n",
              "      <th>17919</th>\n",
              "      <td>3</td>\n",
              "      <td>17</td>\n",
              "      <td>0</td>\n",
              "      <td>67.0</td>\n",
              "    </tr>\n",
              "    <tr>\n",
              "      <th>...</th>\n",
              "      <td>...</td>\n",
              "      <td>...</td>\n",
              "      <td>...</td>\n",
              "      <td>...</td>\n",
              "    </tr>\n",
              "    <tr>\n",
              "      <th>39829</th>\n",
              "      <td>0</td>\n",
              "      <td>10</td>\n",
              "      <td>1</td>\n",
              "      <td>12.0</td>\n",
              "    </tr>\n",
              "    <tr>\n",
              "      <th>39830</th>\n",
              "      <td>5</td>\n",
              "      <td>10</td>\n",
              "      <td>0</td>\n",
              "      <td>12.0</td>\n",
              "    </tr>\n",
              "    <tr>\n",
              "      <th>39831</th>\n",
              "      <td>0</td>\n",
              "      <td>10</td>\n",
              "      <td>1</td>\n",
              "      <td>12.0</td>\n",
              "    </tr>\n",
              "    <tr>\n",
              "      <th>39832</th>\n",
              "      <td>2</td>\n",
              "      <td>10</td>\n",
              "      <td>1</td>\n",
              "      <td>12.0</td>\n",
              "    </tr>\n",
              "    <tr>\n",
              "      <th>39833</th>\n",
              "      <td>2</td>\n",
              "      <td>10</td>\n",
              "      <td>1</td>\n",
              "      <td>12.0</td>\n",
              "    </tr>\n",
              "  </tbody>\n",
              "</table>\n",
              "<p>950 rows × 4 columns</p>\n",
              "</div>"
            ],
            "text/plain": [
              "       away_score  tournament  neutral  rank\n",
              "17915           1          17        0  59.0\n",
              "17916           1          18        0   8.0\n",
              "17917           0          17        0  35.0\n",
              "17918           0          18        0  65.0\n",
              "17919           3          17        0  67.0\n",
              "...           ...         ...      ...   ...\n",
              "39829           0          10        1  12.0\n",
              "39830           5          10        0  12.0\n",
              "39831           0          10        1  12.0\n",
              "39832           2          10        1  12.0\n",
              "39833           2          10        1  12.0\n",
              "\n",
              "[950 rows x 4 columns]"
            ]
          },
          "metadata": {
            "tags": []
          },
          "execution_count": 327
        }
      ]
    },
    {
      "cell_type": "code",
      "metadata": {
        "colab": {
          "base_uri": "https://localhost:8080/"
        },
        "id": "RUOsknWC9-Qy",
        "outputId": "91199989-6c7c-460c-ae2b-20e8a24fc787"
      },
      "source": [
        "#performing LDA\n",
        "from sklearn.discriminant_analysis import LinearDiscriminantAnalysis as LDA\n",
        "\n",
        "lda= LDA()\n",
        "\n",
        "lda_ = lda.fit(feature, fifa_label)\n",
        "lda_feat = lda_.transform(feature)\n",
        "\n",
        "#Display the coefficient of reducted columns\n",
        "lda_.coef_"
      ],
      "execution_count": null,
      "outputs": [
        {
          "output_type": "execute_result",
          "data": {
            "text/plain": [
              "array([[ 1.32452705e-01,  9.14898594e-03,  4.49618672e-02,\n",
              "         3.25852852e-03],\n",
              "       [ 5.88226642e-02,  1.15356949e-02, -1.93855703e-01,\n",
              "         5.61391499e-05],\n",
              "       [-9.49518110e-02, -3.38582027e-03,  1.40610371e-02,\n",
              "        -2.71600925e-03],\n",
              "       [-6.14709558e-02, -9.85120649e-03,  2.09790620e-01,\n",
              "        -2.35722067e-03],\n",
              "       [-7.94928008e-02, -4.36275016e-02, -6.02971298e-02,\n",
              "        -3.50953640e-03],\n",
              "       [-2.50049754e-01, -4.16904638e-02, -7.91544873e-01,\n",
              "        -1.56107008e-03],\n",
              "       [-3.85404199e-02, -8.71492187e-03,  1.41910736e+00,\n",
              "         1.01551387e-02],\n",
              "       [-3.88496942e-01, -6.64342845e-02,  1.14179564e+00,\n",
              "         3.78622044e-03],\n",
              "       [-3.66871981e-01,  1.09547867e-01,  1.18050711e+00,\n",
              "        -8.08728051e-03],\n",
              "       [-9.33627217e-01, -1.53419005e-01,  3.71340851e+00,\n",
              "         1.86811223e-02],\n",
              "       [-6.63467434e-01, -2.26536532e-02, -8.75365143e-01,\n",
              "         2.80937743e-03],\n",
              "       [-7.00068713e-01, -5.96516405e-04, -8.61987162e-01,\n",
              "         2.58687870e-02],\n",
              "       [-6.80360332e-01, -1.24734362e-02, -8.69190690e-01,\n",
              "         1.34521818e-02],\n",
              "       [-6.68394529e-01, -1.96844233e-02, -8.73564261e-01,\n",
              "         5.91352872e-03]])"
            ]
          },
          "metadata": {
            "tags": []
          },
          "execution_count": 328
        }
      ]
    },
    {
      "cell_type": "code",
      "metadata": {
        "colab": {
          "base_uri": "https://localhost:8080/",
          "height": 172
        },
        "id": "6qQsnstb-1ZN",
        "outputId": "ed90c6db-91bf-4d1d-aeed-8cbee7e7cece"
      },
      "source": [
        "#create a dataframe so that we can extract the names of columns\n",
        "f_df = pd.DataFrame(index=feature.columns.values, data=lda_.coef_[0].T)\n",
        "f_df.sort_values(0, ascending=False)"
      ],
      "execution_count": null,
      "outputs": [
        {
          "output_type": "execute_result",
          "data": {
            "text/html": [
              "<div>\n",
              "<style scoped>\n",
              "    .dataframe tbody tr th:only-of-type {\n",
              "        vertical-align: middle;\n",
              "    }\n",
              "\n",
              "    .dataframe tbody tr th {\n",
              "        vertical-align: top;\n",
              "    }\n",
              "\n",
              "    .dataframe thead th {\n",
              "        text-align: right;\n",
              "    }\n",
              "</style>\n",
              "<table border=\"1\" class=\"dataframe\">\n",
              "  <thead>\n",
              "    <tr style=\"text-align: right;\">\n",
              "      <th></th>\n",
              "      <th>0</th>\n",
              "    </tr>\n",
              "  </thead>\n",
              "  <tbody>\n",
              "    <tr>\n",
              "      <th>away_score</th>\n",
              "      <td>0.132453</td>\n",
              "    </tr>\n",
              "    <tr>\n",
              "      <th>neutral</th>\n",
              "      <td>0.044962</td>\n",
              "    </tr>\n",
              "    <tr>\n",
              "      <th>tournament</th>\n",
              "      <td>0.009149</td>\n",
              "    </tr>\n",
              "    <tr>\n",
              "      <th>rank</th>\n",
              "      <td>0.003259</td>\n",
              "    </tr>\n",
              "  </tbody>\n",
              "</table>\n",
              "</div>"
            ],
            "text/plain": [
              "                   0\n",
              "away_score  0.132453\n",
              "neutral     0.044962\n",
              "tournament  0.009149\n",
              "rank        0.003259"
            ]
          },
          "metadata": {
            "tags": []
          },
          "execution_count": 329
        }
      ]
    },
    {
      "cell_type": "markdown",
      "metadata": {
        "id": "QdB8NBZ8_CNO"
      },
      "source": [
        "The following features have great effect on the dataset.\n",
        "* away score\n",
        "* neutral\n",
        "* tournament\n",
        "* rank"
      ]
    },
    {
      "cell_type": "markdown",
      "metadata": {
        "id": "JwhWNdz8C7eu"
      },
      "source": [
        "MULTICOLLINERITY"
      ]
    },
    {
      "cell_type": "code",
      "metadata": {
        "colab": {
          "base_uri": "https://localhost:8080/"
        },
        "id": "T3L9xWu8BPak",
        "outputId": "0da7ff10-409f-49b0-e873-be4549f588bc"
      },
      "source": [
        "#checing for unique values in the dataset.\n",
        "for i in Fifa_encode.columns:\n",
        " print(Fifa_encode[i].unique())\n",
        " print (\"\\n\")"
      ],
      "execution_count": null,
      "outputs": [
        {
          "output_type": "stream",
          "text": [
            "['1993-08-08T00:00:00.000000000' '1993-09-23T00:00:00.000000000'\n",
            " '1993-10-22T00:00:00.000000000' '1994-03-15T00:00:00.000000000'\n",
            " '1994-04-19T00:00:00.000000000' '1994-05-17T00:00:00.000000000'\n",
            " '1994-10-25T00:00:00.000000000' '1994-11-22T00:00:00.000000000'\n",
            " '1995-04-19T00:00:00.000000000' '1995-07-25T00:00:00.000000000'\n",
            " '1996-01-24T00:00:00.000000000' '1996-02-21T00:00:00.000000000'\n",
            " '1996-04-24T00:00:00.000000000' '1996-08-28T00:00:00.000000000'\n",
            " '1996-09-25T00:00:00.000000000' '1996-10-23T00:00:00.000000000'\n",
            " '1996-12-18T00:00:00.000000000' '1997-04-09T00:00:00.000000000'\n",
            " '1997-06-18T00:00:00.000000000' '1997-08-20T00:00:00.000000000'\n",
            " '1997-10-17T00:00:00.000000000' '1997-11-19T00:00:00.000000000'\n",
            " '1997-12-23T00:00:00.000000000' '1998-02-18T00:00:00.000000000'\n",
            " '1998-03-18T00:00:00.000000000' '1998-04-22T00:00:00.000000000'\n",
            " '1998-05-20T00:00:00.000000000' '1998-07-15T00:00:00.000000000'\n",
            " '1998-08-19T00:00:00.000000000' '1998-09-16T00:00:00.000000000'\n",
            " '1998-10-21T00:00:00.000000000' '1998-11-18T00:00:00.000000000'\n",
            " '1998-12-23T00:00:00.000000000' '1999-01-27T00:00:00.000000000'\n",
            " '1999-02-24T00:00:00.000000000' '1999-03-24T00:00:00.000000000'\n",
            " '1999-05-19T00:00:00.000000000' '1999-06-16T00:00:00.000000000'\n",
            " '1999-07-21T00:00:00.000000000' '1999-08-18T00:00:00.000000000'\n",
            " '1999-10-13T00:00:00.000000000' '1999-11-17T00:00:00.000000000'\n",
            " '1999-12-22T00:00:00.000000000' '2000-01-19T00:00:00.000000000'\n",
            " '2000-02-16T00:00:00.000000000' '2000-03-15T00:00:00.000000000'\n",
            " '2000-04-12T00:00:00.000000000' '2000-05-10T00:00:00.000000000'\n",
            " '2000-06-07T00:00:00.000000000' '2000-07-05T00:00:00.000000000'\n",
            " '2000-08-09T00:00:00.000000000' '2000-10-11T00:00:00.000000000'\n",
            " '2000-11-15T00:00:00.000000000' '2000-12-20T00:00:00.000000000'\n",
            " '2001-01-17T00:00:00.000000000' '2001-02-14T00:00:00.000000000'\n",
            " '2001-03-14T00:00:00.000000000' '2001-04-11T00:00:00.000000000'\n",
            " '2001-05-16T00:00:00.000000000' '2001-06-20T00:00:00.000000000'\n",
            " '2001-07-18T00:00:00.000000000' '2001-11-21T00:00:00.000000000'\n",
            " '2002-01-16T00:00:00.000000000' '2002-02-13T00:00:00.000000000'\n",
            " '2002-03-20T00:00:00.000000000' '2002-04-17T00:00:00.000000000'\n",
            " '2002-05-15T00:00:00.000000000' '2002-07-03T00:00:00.000000000'\n",
            " '2002-10-23T00:00:00.000000000' '2002-11-20T00:00:00.000000000'\n",
            " '2002-12-18T00:00:00.000000000' '2003-01-15T00:00:00.000000000'\n",
            " '2003-03-26T00:00:00.000000000' '2003-04-23T00:00:00.000000000'\n",
            " '2003-05-21T00:00:00.000000000' '2003-07-30T00:00:00.000000000'\n",
            " '2003-08-27T00:00:00.000000000' '2003-09-24T00:00:00.000000000'\n",
            " '2003-10-22T00:00:00.000000000' '2003-11-19T00:00:00.000000000'\n",
            " '2003-12-15T00:00:00.000000000' '2004-01-14T00:00:00.000000000'\n",
            " '2004-02-18T00:00:00.000000000' '2004-03-17T00:00:00.000000000'\n",
            " '2004-04-14T00:00:00.000000000' '2004-05-12T00:00:00.000000000'\n",
            " '2004-06-09T00:00:00.000000000' '2004-07-07T00:00:00.000000000'\n",
            " '2004-09-01T00:00:00.000000000' '2004-10-06T00:00:00.000000000'\n",
            " '2004-11-10T00:00:00.000000000' '2004-12-20T00:00:00.000000000'\n",
            " '2005-02-16T00:00:00.000000000' '2005-03-23T00:00:00.000000000'\n",
            " '2005-04-20T00:00:00.000000000' '2005-06-15T00:00:00.000000000'\n",
            " '2005-08-17T00:00:00.000000000' '2005-12-16T00:00:00.000000000'\n",
            " '2006-01-18T00:00:00.000000000' '2006-02-15T00:00:00.000000000'\n",
            " '2006-03-15T00:00:00.000000000' '2006-08-16T00:00:00.000000000'\n",
            " '2006-10-18T00:00:00.000000000' '2007-01-17T00:00:00.000000000'\n",
            " '2007-04-18T00:00:00.000000000' '2007-05-16T00:00:00.000000000'\n",
            " '2007-07-18T00:00:00.000000000' '2007-08-22T00:00:00.000000000'\n",
            " '2007-10-24T00:00:00.000000000' '2007-12-17T00:00:00.000000000'\n",
            " '2008-01-16T00:00:00.000000000' '2008-04-09T00:00:00.000000000'\n",
            " '2008-06-04T00:00:00.000000000' '2008-09-03T00:00:00.000000000'\n",
            " '2008-10-08T00:00:00.000000000' '2008-11-12T00:00:00.000000000'\n",
            " '2008-12-17T00:00:00.000000000' '2009-01-14T00:00:00.000000000'\n",
            " '2009-02-11T00:00:00.000000000' '2009-03-11T00:00:00.000000000'\n",
            " '2009-04-08T00:00:00.000000000' '2009-06-03T00:00:00.000000000'\n",
            " '2009-12-16T00:00:00.000000000' '2010-03-03T00:00:00.000000000'\n",
            " '2010-03-31T00:00:00.000000000' '2010-04-28T00:00:00.000000000'\n",
            " '2010-05-26T00:00:00.000000000' '2010-08-11T00:00:00.000000000'\n",
            " '2010-09-15T00:00:00.000000000' '2010-11-17T00:00:00.000000000'\n",
            " '2010-12-15T00:00:00.000000000' '2011-01-12T00:00:00.000000000'\n",
            " '2011-06-29T00:00:00.000000000' '2011-07-27T00:00:00.000000000'\n",
            " '2011-08-24T00:00:00.000000000' '2011-12-21T00:00:00.000000000'\n",
            " '2012-01-18T00:00:00.000000000' '2012-02-15T00:00:00.000000000'\n",
            " '2012-04-11T00:00:00.000000000' '2012-06-06T00:00:00.000000000'\n",
            " '2012-08-08T00:00:00.000000000' '2012-09-05T00:00:00.000000000'\n",
            " '2012-11-07T00:00:00.000000000' '2012-12-19T00:00:00.000000000'\n",
            " '2013-01-17T00:00:00.000000000' '2013-02-14T00:00:00.000000000'\n",
            " '2013-06-06T00:00:00.000000000' '2013-11-28T00:00:00.000000000'\n",
            " '2014-01-16T00:00:00.000000000' '2014-06-05T00:00:00.000000000'\n",
            " '2014-08-14T00:00:00.000000000' '2015-03-12T00:00:00.000000000'\n",
            " '2015-09-03T00:00:00.000000000' '2015-11-05T00:00:00.000000000'\n",
            " '2015-12-03T00:00:00.000000000' '2016-02-04T00:00:00.000000000'\n",
            " '2016-06-02T00:00:00.000000000' '2017-03-09T00:00:00.000000000'\n",
            " '2017-05-04T00:00:00.000000000' '2017-06-01T00:00:00.000000000'\n",
            " '2017-07-06T00:00:00.000000000' '2018-01-18T00:00:00.000000000'\n",
            " '2018-06-07T00:00:00.000000000']\n",
            "\n",
            "\n",
            "['Bolivia' 'Brazil' 'Ecuador' 'Guinea' 'Paraguay' 'Peru' 'Zimbabwe'\n",
            " 'Saudi Arabia' 'Iran' 'South Korea' 'Gabon' 'Israel' 'Malta' 'England'\n",
            " 'Poland' 'Oman' 'Jamaica' 'Antigua and Barbuda' 'Iraq' 'Angola'\n",
            " 'Burkina Faso' 'Greece' 'Sierra Leone' 'South Africa' 'France' 'Portugal'\n",
            " 'Argentina' 'Belgium' 'Colombia' 'Czech Republic' 'Denmark' 'Estonia'\n",
            " 'Hungary' 'Netherlands' 'Northern Ireland' 'Norway' 'Romania' 'Serbia'\n",
            " 'Slovakia' 'Switzerland' 'Venezuela' 'Honduras' 'Russia' 'Syria'\n",
            " 'DR Congo' 'New Zealand' 'Belarus' 'Bosnia and Herzegovina' 'Bulgaria'\n",
            " 'Finland' 'Republic of Ireland' 'Liechtenstein' 'Turkey' 'Ukraine'\n",
            " 'Uruguay' 'Kuwait' 'Senegal' 'Spain' 'Catalonia' 'Mexico' 'Austria'\n",
            " 'Chile' 'Croatia' 'Germany' 'Italy' 'Scotland' 'Slovenia' 'Sweden'\n",
            " 'Cyprus' 'Iceland' 'Lithuania' 'Egypt' 'Qatar' 'United Arab Emirates'\n",
            " 'Sudan' 'Albania' 'Georgia' 'Luxembourg' 'San Marino' 'Costa Rica'\n",
            " 'Thailand' 'Faroe Islands' 'Uzbekistan' 'Morocco' 'Tunisia' 'Panama'\n",
            " 'Togo' 'Bhutan' 'Japan' 'Lebanon' 'Macau' 'Jordan' 'Ethiopia' 'Maldives'\n",
            " 'Malaysia' 'Azerbaijan' 'Moldova' 'Barbados' 'Canada' 'El Salvador'\n",
            " 'Guatemala' 'Trinidad and Tobago' 'Dominica' 'Grenada' 'Australia'\n",
            " 'Samoa' 'Cuba' 'Haiti' 'Gambia' 'Wales' 'Andorra' 'Belize' 'Latvia'\n",
            " 'Kenya' 'Tanzania' 'Nigeria' 'Singapore' 'Bangladesh' 'Nepal' 'Burundi'\n",
            " 'Guadeloupe' 'Lesotho' 'Uganda' 'Algeria' 'Benin' 'Bahrain' 'Burma'\n",
            " 'India' 'Ghana' 'Hong Kong' 'Turkmenistan' 'China PR' 'Libya' 'Palestine'\n",
            " 'Vietnam' 'Yemen' 'American Samoa' 'Fiji' 'Solomon Islands' 'Tahiti'\n",
            " 'Indonesia' 'Kazakhstan' 'Mauritius' 'Cameroon' 'Ivory Coast' 'Namibia'\n",
            " 'Pakistan' 'Armenia' 'Mali' 'Montenegro' 'Tajikistan' 'Bermuda'\n",
            " 'Sri Lanka' 'North Macedonia' 'Mozambique' 'Guam' 'Chad' 'Malawi'\n",
            " 'Mauritania' 'Botswana' 'Afghanistan' 'Cambodia' 'Mongolia' 'Vanuatu'\n",
            " 'Guyana' 'Liberia' 'Papua New Guinea' 'Iraqi Kurdistan' 'Tamil Eelam'\n",
            " 'Provence' 'Zambia' 'Eswatini' 'Sápmi' 'Darfur' 'Padania' 'Occitania'\n",
            " 'Philippines' 'Rwanda' 'Laos' 'Seychelles' 'Western Armenia'\n",
            " 'Chagos Islands' 'Székely Land' 'Tibet' 'Abkhazia' 'Barawa' 'Cascadia'\n",
            " 'Northern Cyprus' 'Kárpátalja']\n",
            "\n",
            "\n",
            "['Uruguay' 'Mexico' 'Venezuela' 'Sierra Leone' 'Argentina' 'Colombia'\n",
            " 'Eswatini' 'Costa Rica' 'Iraq' 'Saudi Arabia' 'DR Congo' 'Ukraine'\n",
            " 'Azerbaijan' 'Greece' 'Austria' 'Senegal' 'United States' 'Chile'\n",
            " 'French Guiana' 'Bulgaria' 'Cameroon' 'Algeria' 'Israel' 'Kyrgyzstan'\n",
            " 'Zambia' 'Egypt' 'Lithuania' 'Germany' 'Bolivia' 'Russia' 'Paraguay'\n",
            " 'Republic of Ireland' 'Scotland' 'Peru' 'Croatia' 'Iceland' 'Slovenia'\n",
            " 'Barbados' 'Sweden' 'Spain' 'Georgia' 'Faroe Islands' 'Brazil' 'Wales'\n",
            " 'Cuba' 'Sudan' 'Mozambique' 'United Arab Emirates'\n",
            " 'Bosnia and Herzegovina' 'Fiji' 'Denmark' 'Norway' 'Switzerland'\n",
            " 'Armenia' 'North Macedonia' 'Serbia' 'Albania' 'Mali' 'Romania' 'Turkey'\n",
            " 'Morocco' 'Poland' 'Portugal' 'Nigeria' 'Finland' 'South Korea'\n",
            " 'Czech Republic' 'France' 'Latvia' 'Belarus' 'Ivory Coast' 'Libya'\n",
            " 'Burkina Faso' 'Syria' 'Lebanon' 'Estonia' 'Netherlands' 'Belgium'\n",
            " 'Moldova' 'Cyprus' 'Jamaica' 'Guatemala' 'El Salvador' 'Zimbabwe'\n",
            " 'New Zealand' 'Kenya' 'Andorra' 'Trinidad and Tobago' 'Slovakia' 'Ghana'\n",
            " 'Turkmenistan' 'Brunei' 'Yemen' 'North Korea' 'Singapore' 'China PR'\n",
            " 'Sri Lanka' 'Liechtenstein' 'Burma' 'Bahrain' 'England'\n",
            " 'Northern Ireland' 'Hungary' 'Luxembourg' 'Malta' 'Australia' 'Panama'\n",
            " 'Ecuador' 'Uzbekistan' 'Qatar' 'Saint Vincent and the Grenadines'\n",
            " 'Saint Lucia' 'American Samoa' 'Suriname' 'Saint Kitts and Nevis'\n",
            " 'Kuwait' 'Jordan' 'South Africa' 'Nicaragua' 'Kazakhstan' 'Tunisia'\n",
            " 'Canada' 'Uganda' 'Curaçao' 'Cape Verde' 'Malaysia' 'Laos' 'Bhutan'\n",
            " 'Maldives' 'Martinique' 'Antigua and Barbuda' 'Guam' 'Malawi' 'Gabon'\n",
            " 'Palestine' 'Rwanda' 'Somalia' 'Iran' 'Tajikistan' 'Afghanistan' 'Benin'\n",
            " 'Oman' 'Hong Kong' 'Chinese Taipei' 'Indonesia' 'Thailand' 'Vanuatu'\n",
            " 'Papua New Guinea' 'Cook Islands' 'New Caledonia' 'India' 'Italy' 'Togo'\n",
            " 'Réunion' 'Guinea' 'Honduras' 'Haiti' 'Cambodia' 'Eritrea' 'Puerto Rico'\n",
            " 'Angola' 'Botswana' 'Guyana' 'Dominican Republic' 'Mongolia'\n",
            " 'Northern Mariana Islands' 'Pakistan' 'Namibia' 'Niger' 'Congo'\n",
            " 'Equatorial Guinea' 'San Marino' 'Chad' 'Vietnam' 'East Timor'\n",
            " 'Philippines' 'Macau' 'Solomon Islands' 'Occitania' 'Zanzibar'\n",
            " 'Northern Cyprus' 'Tamil Eelam' 'Artsakh' 'Abkhazia' 'Iraqi Kurdistan'\n",
            " 'Nepal' 'Bangladesh' 'Padania' 'Panjab' 'Somaliland' 'Raetia' 'Tuvalu'\n",
            " 'Kabylia' 'United Koreans in Japan' 'Western Armenia' 'Székely Land']\n",
            "\n",
            "\n",
            "[ 3  1  5  0  2  6  4  9  8 31  7 11 15 10]\n",
            "\n",
            "\n",
            "[ 1  0  3  2  4  8  6  5  9  7 12]\n",
            "\n",
            "\n",
            "[17 18  8 24  4  1  9 13 31 33 32 25 22 35 20 15 23 19 30  3 29 28 12  0\n",
            " 26 11  7 16  2  5 14 27 34  6 10 21]\n",
            "\n",
            "\n",
            "[0 1]\n",
            "\n",
            "\n",
            "[ 59.   8.  35.  65.  67.  70.  50.  44.  51.  61.  54.  80.  15.  27.\n",
            "  92.  73. 156. 105.  29.  37.  43.   7.  46.  20.  38.   9.  10.  13.\n",
            "  41.  23. 134.  45.  74.  11.  57.  17.  18.  81.  39.  19.  26. 116.\n",
            "  48.  83.  82.  56.  42. 130.   1. 122.  49.  34. 118. 103. 117.  22.\n",
            "  16. 101.  72.  55. 162.  71.  30.  12.   5.  52. 109.  47.   3.  63.\n",
            "  87.   4.  28.  32.   6.   2.  96.  24.  66.  97.  60.  33.  31.  68.\n",
            "  75.  64. 108.  58. 147.  88.  40. 180. 123.  69.  25.  77.  93. 107.\n",
            " 133.  84.  14. 139. 177. 111. 112. 148. 154.  94. 113. 102. 121.  36.\n",
            "  89. 169. 100. 152.  21. 126. 145. 144. 160. 146.  91.  53.  85. 150.\n",
            " 110.  62. 161. 157. 137. 200.  79.  90.  78.  99. 128. 114. 124. 129.\n",
            "  76. 131. 181. 138. 143. 195. 153. 191. 120. 127. 151. 125. 174. 199.\n",
            " 184. 155.  98.  95. 201. 172. 165. 104.  86. 142. 106. 168. 149. 135.\n",
            " 163. 179. 171. 140. 183. 188. 159. 173. 164.]\n",
            "\n",
            "\n",
            "['Win' 'draw' 'Loss']\n",
            "\n",
            "\n"
          ],
          "name": "stdout"
        }
      ]
    },
    {
      "cell_type": "code",
      "metadata": {
        "colab": {
          "base_uri": "https://localhost:8080/",
          "height": 172
        },
        "id": "7pgeTSusDdiR",
        "outputId": "6300b1b3-0783-4375-c872-9fd6f0ab8267"
      },
      "source": [
        "# Let's display the correlations between the variables\n",
        "correlations = feature.corr()\n",
        "correlations"
      ],
      "execution_count": null,
      "outputs": [
        {
          "output_type": "execute_result",
          "data": {
            "text/html": [
              "<div>\n",
              "<style scoped>\n",
              "    .dataframe tbody tr th:only-of-type {\n",
              "        vertical-align: middle;\n",
              "    }\n",
              "\n",
              "    .dataframe tbody tr th {\n",
              "        vertical-align: top;\n",
              "    }\n",
              "\n",
              "    .dataframe thead th {\n",
              "        text-align: right;\n",
              "    }\n",
              "</style>\n",
              "<table border=\"1\" class=\"dataframe\">\n",
              "  <thead>\n",
              "    <tr style=\"text-align: right;\">\n",
              "      <th></th>\n",
              "      <th>away_score</th>\n",
              "      <th>tournament</th>\n",
              "      <th>neutral</th>\n",
              "      <th>rank</th>\n",
              "    </tr>\n",
              "  </thead>\n",
              "  <tbody>\n",
              "    <tr>\n",
              "      <th>away_score</th>\n",
              "      <td>1.000000</td>\n",
              "      <td>-0.049671</td>\n",
              "      <td>0.147866</td>\n",
              "      <td>0.052657</td>\n",
              "    </tr>\n",
              "    <tr>\n",
              "      <th>tournament</th>\n",
              "      <td>-0.049671</td>\n",
              "      <td>1.000000</td>\n",
              "      <td>-0.116347</td>\n",
              "      <td>-0.118195</td>\n",
              "    </tr>\n",
              "    <tr>\n",
              "      <th>neutral</th>\n",
              "      <td>0.147866</td>\n",
              "      <td>-0.116347</td>\n",
              "      <td>1.000000</td>\n",
              "      <td>0.023620</td>\n",
              "    </tr>\n",
              "    <tr>\n",
              "      <th>rank</th>\n",
              "      <td>0.052657</td>\n",
              "      <td>-0.118195</td>\n",
              "      <td>0.023620</td>\n",
              "      <td>1.000000</td>\n",
              "    </tr>\n",
              "  </tbody>\n",
              "</table>\n",
              "</div>"
            ],
            "text/plain": [
              "            away_score  tournament   neutral      rank\n",
              "away_score    1.000000   -0.049671  0.147866  0.052657\n",
              "tournament   -0.049671    1.000000 -0.116347 -0.118195\n",
              "neutral       0.147866   -0.116347  1.000000  0.023620\n",
              "rank          0.052657   -0.118195  0.023620  1.000000"
            ]
          },
          "metadata": {
            "tags": []
          },
          "execution_count": 332
        }
      ]
    },
    {
      "cell_type": "markdown",
      "metadata": {
        "id": "6dmfPErEkpBc"
      },
      "source": [
        "It shows that there are very week relation between the variables"
      ]
    },
    {
      "cell_type": "code",
      "metadata": {
        "colab": {
          "base_uri": "https://localhost:8080/",
          "height": 172
        },
        "id": "YM9849y7EWaX",
        "outputId": "4412cf09-f209-419f-b7df-6ebb73664818"
      },
      "source": [
        "pd.DataFrame(np.linalg.inv(correlations.values), index = correlations.index, columns=correlations.columns)"
      ],
      "execution_count": null,
      "outputs": [
        {
          "output_type": "execute_result",
          "data": {
            "text/html": [
              "<div>\n",
              "<style scoped>\n",
              "    .dataframe tbody tr th:only-of-type {\n",
              "        vertical-align: middle;\n",
              "    }\n",
              "\n",
              "    .dataframe tbody tr th {\n",
              "        vertical-align: top;\n",
              "    }\n",
              "\n",
              "    .dataframe thead th {\n",
              "        text-align: right;\n",
              "    }\n",
              "</style>\n",
              "<table border=\"1\" class=\"dataframe\">\n",
              "  <thead>\n",
              "    <tr style=\"text-align: right;\">\n",
              "      <th></th>\n",
              "      <th>away_score</th>\n",
              "      <th>tournament</th>\n",
              "      <th>neutral</th>\n",
              "      <th>rank</th>\n",
              "    </tr>\n",
              "  </thead>\n",
              "  <tbody>\n",
              "    <tr>\n",
              "      <th>away_score</th>\n",
              "      <td>1.025662</td>\n",
              "      <td>0.028235</td>\n",
              "      <td>-0.147261</td>\n",
              "      <td>-0.047193</td>\n",
              "    </tr>\n",
              "    <tr>\n",
              "      <th>tournament</th>\n",
              "      <td>0.028235</td>\n",
              "      <td>1.028391</td>\n",
              "      <td>0.112702</td>\n",
              "      <td>0.117402</td>\n",
              "    </tr>\n",
              "    <tr>\n",
              "      <th>neutral</th>\n",
              "      <td>-0.147261</td>\n",
              "      <td>0.112702</td>\n",
              "      <td>1.034967</td>\n",
              "      <td>-0.003371</td>\n",
              "    </tr>\n",
              "    <tr>\n",
              "      <th>rank</th>\n",
              "      <td>-0.047193</td>\n",
              "      <td>0.117402</td>\n",
              "      <td>-0.003371</td>\n",
              "      <td>1.016441</td>\n",
              "    </tr>\n",
              "  </tbody>\n",
              "</table>\n",
              "</div>"
            ],
            "text/plain": [
              "            away_score  tournament   neutral      rank\n",
              "away_score    1.025662    0.028235 -0.147261 -0.047193\n",
              "tournament    0.028235    1.028391  0.112702  0.117402\n",
              "neutral      -0.147261    0.112702  1.034967 -0.003371\n",
              "rank         -0.047193    0.117402 -0.003371  1.016441"
            ]
          },
          "metadata": {
            "tags": []
          },
          "execution_count": 333
        }
      ]
    },
    {
      "cell_type": "markdown",
      "metadata": {
        "id": "LgIrMANAF5np"
      },
      "source": [
        "The VIF score is less than 1.05 which indicates that the independent variables are not correleted"
      ]
    },
    {
      "cell_type": "markdown",
      "metadata": {
        "id": "QZaR1cnXjNlU"
      },
      "source": [
        "MODEL 1: Predict how many goals the home team scores."
      ]
    },
    {
      "cell_type": "markdown",
      "metadata": {
        "id": "sSyW1BwMCwN1"
      },
      "source": [
        "A) using rank"
      ]
    },
    {
      "cell_type": "code",
      "metadata": {
        "id": "BCNTvAyIk8hh"
      },
      "source": [
        "# Splitting our dataset\n",
        "#\n",
        "\n",
        "X = Fifa_encode.drop(['home_score','date','home_team','away_team','status','neutral','away_score','tournament'], axis=1)\n",
        "y = Fifa_encode['home_score']\n",
        "\n",
        "from sklearn.model_selection import train_test_split\n",
        "X_train, Y_train, X_test, Y_test = train_test_split(X,y, test_size = 0.2, random_state=0)"
      ],
      "execution_count": 458,
      "outputs": []
    },
    {
      "cell_type": "code",
      "metadata": {
        "colab": {
          "base_uri": "https://localhost:8080/",
          "height": 295
        },
        "id": "v-cyjGHNtqC6",
        "outputId": "0034214d-b992-4b9a-8e75-052b0861ce19"
      },
      "source": [
        "# Fit polynomial Regression to the dataset\n",
        "poly_reg_7 = PolynomialFeatures(degree = 7) \n",
        "X_poly = poly_reg_7.fit_transform(X)\n",
        "\n",
        "\n",
        "pol_reg = LinearRegression()\n",
        "pol_reg.fit(X_poly, y)\n",
        "\n",
        "#Visualize the Polynomial Regression results\n",
        "plt.scatter(X, y, color='blue') # You can put any color you like. This just helps us highlight the data points\n",
        "plt.plot(X, pol_reg.predict(X_poly), color='red')\n",
        "plt.title('Home score prediction (Polynomial Regression)')\n",
        "plt.xlabel('status')\n",
        "plt.ylabel('Home score')\n",
        "plt.show()"
      ],
      "execution_count": 460,
      "outputs": [
        {
          "output_type": "display_data",
          "data": {
            "image/png": "[encoded data removed]",
            "text/plain": [
              "<Figure size 432x288 with 1 Axes>"
            ]
          },
          "metadata": {
            "tags": [],
            "needs_background": "light"
          }
        }
      ]
    },
    {
      "cell_type": "markdown",
      "metadata": {
        "id": "wKQwbnZnwF6C"
      },
      "source": [
        "CROSS VALIDATING THE MODEL"
      ]
    },
    {
      "cell_type": "code",
      "metadata": {
        "colab": {
          "base_uri": "https://localhost:8080/"
        },
        "id": "EdKCwTcFwAMw",
        "outputId": "326bf66a-151e-41fa-d3ba-b44aa5f4e379"
      },
      "source": [
        "crossvalidation = KFold(n_splits=10, random_state=1, shuffle=False)\n",
        "RMSES = []\n",
        "for i in range(1,11):\n",
        "    poly = PolynomialFeatures(degree=i)\n",
        "    X_current = poly.fit_transform(X)\n",
        "    model = pol_reg.fit(X_poly, y)\n",
        "    scores = cross_val_score(model, X_current, y, scoring=\"neg_mean_squared_error\", cv=crossvalidation,\n",
        " n_jobs=1)\n",
        "    rmse= np.sqrt(np.mean(np.abs(scores)))\n",
        "    RMSES.append(rmse)\n",
        "    print(\"Degree-\"+str(i)+\" polynomial MSE: \" + str(np.mean(np.abs(scores))) + \" Root Mean Squared Error:\"+ str(rmse) + \", STD: \" + str(np.std(scores)))\n",
        "    "
      ],
      "execution_count": 461,
      "outputs": [
        {
          "output_type": "stream",
          "text": [
            "Degree-1 polynomial MSE: 3.697408774857685 Root Mean Squared Error:1.922864731294868, STD: 3.1096408733112644\n",
            "Degree-2 polynomial MSE: 3.7052477378367987 Root Mean Squared Error:1.9249020073335679, STD: 3.10226209924887\n",
            "Degree-3 polynomial MSE: 3.708495022738236 Root Mean Squared Error:1.9257453161667655, STD: 3.1019096104896295\n",
            "Degree-4 polynomial MSE: 3.711035814214206 Root Mean Squared Error:1.926404893633269, STD: 3.0919215777646247\n",
            "Degree-5 polynomial MSE: 3.723761049733233 Root Mean Squared Error:1.929704912605353, STD: 3.081835216488091\n",
            "Degree-6 polynomial MSE: 3.729335517932973 Root Mean Squared Error:1.9311487560343383, STD: 3.088975882086599\n",
            "Degree-7 polynomial MSE: 3.6978134655983235 Root Mean Squared Error:1.9229699596193186, STD: 3.079944814663827\n",
            "Degree-8 polynomial MSE: 3.7030709143834364 Root Mean Squared Error:1.924336486787962, STD: 3.0841679341087826\n",
            "Degree-9 polynomial MSE: 3.7044728468038004 Root Mean Squared Error:1.924700716164412, STD: 3.092903541775789\n",
            "Degree-10 polynomial MSE: 3.7024672615376333 Root Mean Squared Error:1.9241796333860395, STD: 3.092126830675352\n"
          ],
          "name": "stdout"
        },
        {
          "output_type": "stream",
          "text": [
            "/usr/local/lib/python3.7/dist-packages/sklearn/model_selection/_split.py:296: FutureWarning: Setting a random_state has no effect since shuffle is False. This will raise an error in 0.24. You should leave random_state to its default (None), or set shuffle=True.\n",
            "  FutureWarning\n"
          ],
          "name": "stderr"
        }
      ]
    },
    {
      "cell_type": "markdown",
      "metadata": {
        "id": "zNaiuX6DxVi9"
      },
      "source": [
        "Shows that polynomial degree of 6 has high means score error and 7 has the lowest."
      ]
    },
    {
      "cell_type": "markdown",
      "metadata": {
        "id": "RW6EA5FLxAB0"
      },
      "source": [
        "RMSE VALUE"
      ]
    },
    {
      "cell_type": "code",
      "metadata": {
        "colab": {
          "base_uri": "https://localhost:8080/"
        },
        "id": "LHLT8jj_8FNg",
        "outputId": "4ab2bc25-a5cf-4cdc-9b9f-e2361a499c5f"
      },
      "source": [
        "np.mean(RMSES)"
      ],
      "execution_count": 462,
      "outputs": [
        {
          "output_type": "execute_result",
          "data": {
            "text/plain": [
              "1.9256957413025895"
            ]
          },
          "metadata": {
            "tags": []
          },
          "execution_count": 462
        }
      ]
    },
    {
      "cell_type": "markdown",
      "metadata": {
        "id": "ToZwAzuY6b8L"
      },
      "source": [
        "The lower the RMSE, the better a given model is able to “fit” a dataset.\n",
        "degree 7 has the lowest RMSE value, which means it better fits the data set."
      ]
    },
    {
      "cell_type": "markdown",
      "metadata": {
        "id": "J2FF2F6mJIuE"
      },
      "source": [
        "CREATING RESIDUAL PLOT"
      ]
    },
    {
      "cell_type": "code",
      "metadata": {
        "colab": {
          "base_uri": "https://localhost:8080/"
        },
        "id": "zfP9g3oc9K-o",
        "outputId": "da96bc3c-dc97-4177-fca1-4e5a9806c821"
      },
      "source": [
        "# This is our prediction for admission based on our model\n",
        "poly_pred = pol_reg.predict(poly_reg_7.fit_transform(X))\n",
        "\n",
        "# We now create the residual by substracting the test value from the predicted \n",
        "# value for each row in our dataset\n",
        "\n",
        "\n",
        "residuals = np.subtract(poly_pred, y_test)\n",
        "\n",
        "residuals.mean()"
      ],
      "execution_count": 463,
      "outputs": [
        {
          "output_type": "execute_result",
          "data": {
            "text/plain": [
              "0.6157894736841047"
            ]
          },
          "metadata": {
            "tags": []
          },
          "execution_count": 463
        }
      ]
    },
    {
      "cell_type": "markdown",
      "metadata": {
        "id": "mMHILVUlWSJ0"
      },
      "source": [
        "A residual is the vertical distance between a data point and the regression line. The positive value indicates that they are above the regression line.\n",
        "Our mean on the other hand is close to 0, indicating that we tend to be fairly correct,"
      ]
    },
    {
      "cell_type": "code",
      "metadata": {
        "colab": {
          "base_uri": "https://localhost:8080/",
          "height": 279
        },
        "id": "EAGqIMRXBpOX",
        "outputId": "a80fe14d-284c-48ee-eefe-7fed323e8c3e"
      },
      "source": [
        "from sklearn import metrics\n",
        "np.concatenate((poly_pred,residuals[:,None]),axis=0)\n",
        "plt.scatter(poly_pred, residuals, color='black')\n",
        "plt.ylabel('residual')\n",
        "plt.xlabel('fitted values')\n",
        "plt.axhline(y= residuals.mean(), color='red', linewidth=1)\n",
        "plt.show();\n",
        "\n"
      ],
      "execution_count": 484,
      "outputs": [
        {
          "output_type": "error",
          "ename": "ValueError",
          "evalue": "ignored",
          "traceback": [
            "\u001b[0;31m---------------------------------------------------------------------------\u001b[0m",
            "\u001b[0;31mValueError\u001b[0m                                Traceback (most recent call last)",
            "\u001b[0;32m<ipython-input-484-3e872134d047>\u001b[0m in \u001b[0;36m<module>\u001b[0;34m()\u001b[0m\n\u001b[1;32m      1\u001b[0m \u001b[0;32mfrom\u001b[0m \u001b[0msklearn\u001b[0m \u001b[0;32mimport\u001b[0m \u001b[0mmetrics\u001b[0m\u001b[0;34m\u001b[0m\u001b[0;34m\u001b[0m\u001b[0m\n\u001b[0;32m----> 2\u001b[0;31m \u001b[0mnp\u001b[0m\u001b[0;34m.\u001b[0m\u001b[0mconcatenate\u001b[0m\u001b[0;34m(\u001b[0m\u001b[0;34m(\u001b[0m\u001b[0mpoly_pred\u001b[0m\u001b[0;34m,\u001b[0m\u001b[0mresiduals\u001b[0m\u001b[0;34m[\u001b[0m\u001b[0;34m:\u001b[0m\u001b[0;34m,\u001b[0m\u001b[0;32mNone\u001b[0m\u001b[0;34m]\u001b[0m\u001b[0;34m)\u001b[0m\u001b[0;34m,\u001b[0m\u001b[0maxis\u001b[0m\u001b[0;34m=\u001b[0m\u001b[0;36m0\u001b[0m\u001b[0;34m)\u001b[0m\u001b[0;34m\u001b[0m\u001b[0;34m\u001b[0m\u001b[0m\n\u001b[0m\u001b[1;32m      3\u001b[0m \u001b[0mplt\u001b[0m\u001b[0;34m.\u001b[0m\u001b[0mscatter\u001b[0m\u001b[0;34m(\u001b[0m\u001b[0mpoly_pred\u001b[0m\u001b[0;34m,\u001b[0m \u001b[0mresiduals\u001b[0m\u001b[0;34m,\u001b[0m \u001b[0mcolor\u001b[0m\u001b[0;34m=\u001b[0m\u001b[0;34m'black'\u001b[0m\u001b[0;34m)\u001b[0m\u001b[0;34m\u001b[0m\u001b[0;34m\u001b[0m\u001b[0m\n\u001b[1;32m      4\u001b[0m \u001b[0mplt\u001b[0m\u001b[0;34m.\u001b[0m\u001b[0mylabel\u001b[0m\u001b[0;34m(\u001b[0m\u001b[0;34m'residual'\u001b[0m\u001b[0;34m)\u001b[0m\u001b[0;34m\u001b[0m\u001b[0;34m\u001b[0m\u001b[0m\n\u001b[1;32m      5\u001b[0m \u001b[0mplt\u001b[0m\u001b[0;34m.\u001b[0m\u001b[0mxlabel\u001b[0m\u001b[0;34m(\u001b[0m\u001b[0;34m'fitted values'\u001b[0m\u001b[0;34m)\u001b[0m\u001b[0;34m\u001b[0m\u001b[0;34m\u001b[0m\u001b[0m\n",
            "\u001b[0;32m<__array_function__ internals>\u001b[0m in \u001b[0;36mconcatenate\u001b[0;34m(*args, **kwargs)\u001b[0m\n",
            "\u001b[0;31mValueError\u001b[0m: all the input arrays must have same number of dimensions, but the array at index 0 has 1 dimension(s) and the array at index 1 has 3 dimension(s)"
          ]
        }
      ]
    },
    {
      "cell_type": "code",
      "metadata": {
        "colab": {
          "base_uri": "https://localhost:8080/"
        },
        "id": "IUTGoBELAeMU",
        "outputId": "3b8bb8a1-0d79-4443-a4b4-ace1390f2ce3"
      },
      "source": [
        "# Predict home score using rank \n",
        "poly_pred = pol_reg.predict(poly_reg_7.fit_transform([[188]]))\n",
        "print('Home score prediction: %d' %poly_pred)"
      ],
      "execution_count": 435,
      "outputs": [
        {
          "output_type": "stream",
          "text": [
            "Home score prediction: 0\n"
          ],
          "name": "stdout"
        }
      ]
    },
    {
      "cell_type": "markdown",
      "metadata": {
        "id": "ogPo3-LLC8HJ"
      },
      "source": [
        "B). Using tournament type"
      ]
    },
    {
      "cell_type": "code",
      "metadata": {
        "id": "RDAhAbMNDG3Y"
      },
      "source": [
        "# Splitting our dataset\n",
        "#\n",
        "\n",
        "X = Fifa_encode.drop(['home_score','date','home_team','away_team','status','neutral','away_score','rank'], axis=1)\n",
        "y = Fifa_encode['home_score']\n",
        "\n",
        "from sklearn.model_selection import train_test_split\n",
        "X_train, Y_train, X_test, Y_test = train_test_split(X,y, test_size = 0.2, random_state=0)"
      ],
      "execution_count": 390,
      "outputs": []
    },
    {
      "cell_type": "code",
      "metadata": {
        "colab": {
          "base_uri": "https://localhost:8080/",
          "height": 295
        },
        "id": "kXfC1-5-DPkF",
        "outputId": "57f8f254-ad7c-4ad6-a001-a4177f515386"
      },
      "source": [
        "# Fit polynomial Regression to the dataset\n",
        "poly_reg_7 = PolynomialFeatures(degree = 7) \n",
        "X_poly = poly_reg_7.fit_transform(X)\n",
        "\n",
        "\n",
        "pol_reg = LinearRegression()\n",
        "pol_reg.fit(X_poly, y)\n",
        "\n",
        "#Visualize the Polynomial Regression results\n",
        "plt.scatter(X, y, color='blue') # You can put any color you like. This just helps us highlight the data points\n",
        "plt.plot(X, pol_reg.predict(X_poly), color='red')\n",
        "plt.title('Home score prediction (Polynomial Regression)')\n",
        "plt.xlabel('status')\n",
        "plt.ylabel('Home score')\n",
        "plt.show()"
      ],
      "execution_count": 391,
      "outputs": [
        {
          "output_type": "display_data",
          "data": {
            "image/png": "[encoded data removed]",
            "text/plain": [
              "<Figure size 432x288 with 1 Axes>"
            ]
          },
          "metadata": {
            "tags": [],
            "needs_background": "light"
          }
        }
      ]
    },
    {
      "cell_type": "code",
      "metadata": {
        "colab": {
          "base_uri": "https://localhost:8080/"
        },
        "id": "ewyyAWhbDVzI",
        "outputId": "74fff6f0-d5f7-45f4-882a-32bc41fc7aa2"
      },
      "source": [
        "# Predict using Polynomial Regression\n",
        "poly_pred = pol_reg.predict(poly_reg_7.fit_transform([[35]]))\n",
        "print('Home score prediction: %d' %poly_pred)"
      ],
      "execution_count": 392,
      "outputs": [
        {
          "output_type": "stream",
          "text": [
            "Home score prediction: 1\n"
          ],
          "name": "stdout"
        }
      ]
    },
    {
      "cell_type": "markdown",
      "metadata": {
        "id": "KksYgDxdjUmK"
      },
      "source": [
        "MODEL 2: Predict how many goals the away team scores."
      ]
    },
    {
      "cell_type": "markdown",
      "metadata": {
        "id": "_EJWRCRmDq_9"
      },
      "source": [
        "USING TOURNAMENT"
      ]
    },
    {
      "cell_type": "code",
      "metadata": {
        "id": "Vq57w2i1DufL"
      },
      "source": [
        "# Splitting our dataset\n",
        "#\n",
        "\n",
        "X = Fifa_encode.drop(['away_score','date','home_team','away_team','status','neutral','home_score','rank'], axis=1)\n",
        "y = Fifa_encode['away_score']\n",
        "\n",
        "from sklearn.model_selection import train_test_split\n",
        "X_train, Y_train, X_test, Y_test = train_test_split(X,y, test_size = 0.3, random_state=0)"
      ],
      "execution_count": 393,
      "outputs": []
    },
    {
      "cell_type": "code",
      "metadata": {
        "colab": {
          "base_uri": "https://localhost:8080/",
          "height": 295
        },
        "id": "HC4qz0g2D8fC",
        "outputId": "b5c53097-1142-4a04-8e35-ae7c2827d060"
      },
      "source": [
        "# Fit polynomial Regression to the dataset\n",
        "poly_reg_7 = PolynomialFeatures(degree = 7) \n",
        "X_poly = poly_reg_7.fit_transform(X)\n",
        "\n",
        "\n",
        "pol_reg = LinearRegression()\n",
        "pol_reg.fit(X_poly, y)\n",
        "\n",
        "#Visualize the Polynomial Regression results\n",
        "plt.scatter(X, y, color='blue') # You can put any color you like. This just helps us highlight the data points\n",
        "plt.plot(X, pol_reg.predict(X_poly), color='red')\n",
        "plt.title('away score prediction (Polynomial Regression)')\n",
        "plt.xlabel('status')\n",
        "plt.ylabel('Away score')\n",
        "plt.show()"
      ],
      "execution_count": 394,
      "outputs": [
        {
          "output_type": "display_data",
          "data": {
            "image/png": "[encoded data removed]",
            "text/plain": [
              "<Figure size 432x288 with 1 Axes>"
            ]
          },
          "metadata": {
            "tags": [],
            "needs_background": "light"
          }
        }
      ]
    },
    {
      "cell_type": "code",
      "metadata": {
        "colab": {
          "base_uri": "https://localhost:8080/"
        },
        "id": "ktNZNmYSETpB",
        "outputId": "9b983a04-59ef-429d-ec37-025cae6483df"
      },
      "source": [
        "# Predict using Polynomial Regression\n",
        "poly_pred = pol_reg.predict(poly_reg_7.fit_transform([[10]]))\n",
        "print('away score prediction: %d' %poly_pred)"
      ],
      "execution_count": 395,
      "outputs": [
        {
          "output_type": "stream",
          "text": [
            "away score prediction: 1\n"
          ],
          "name": "stdout"
        }
      ]
    },
    {
      "cell_type": "markdown",
      "metadata": {
        "id": "1NbcuzmPFcMY"
      },
      "source": [
        "USING RANK"
      ]
    },
    {
      "cell_type": "code",
      "metadata": {
        "id": "c2rcVIYjFmg4"
      },
      "source": [
        "# Splitting our dataset\n",
        "#\n",
        "\n",
        "X = Fifa_encode.drop(['away_score','date','home_team','away_team','status','neutral','home_score','tournament'], axis=1)\n",
        "y = Fifa_encode['away_score']\n",
        "\n",
        "from sklearn.model_selection import train_test_split\n",
        "X_train, Y_train, X_test, Y_test = train_test_split(X,y, test_size = 0.3, random_state=0)"
      ],
      "execution_count": 396,
      "outputs": []
    },
    {
      "cell_type": "code",
      "metadata": {
        "colab": {
          "base_uri": "https://localhost:8080/",
          "height": 295
        },
        "id": "gcaTItuEFqic",
        "outputId": "8f70d538-c4ff-45d7-e297-4c3d12c888e9"
      },
      "source": [
        "# Fit polynomial Regression to the dataset\n",
        "poly_reg_7 = PolynomialFeatures(degree = 7) \n",
        "X_poly = poly_reg_7.fit_transform(X)\n",
        "\n",
        "\n",
        "pol_reg = LinearRegression()\n",
        "pol_reg.fit(X_poly, y)\n",
        "\n",
        "#Visualize the Polynomial Regression results\n",
        "plt.scatter(X, y, color='blue') # You can put any color you like. This just helps us highlight the data points\n",
        "plt.plot(X, pol_reg.predict(X_poly), color='red')\n",
        "plt.title('Home score prediction (Polynomial Regression)')\n",
        "plt.xlabel('status')\n",
        "plt.ylabel('Home score')\n",
        "plt.show()"
      ],
      "execution_count": 397,
      "outputs": [
        {
          "output_type": "display_data",
          "data": {
            "image/png": "[encoded data removed]",
            "text/plain": [
              "<Figure size 432x288 with 1 Axes>"
            ]
          },
          "metadata": {
            "tags": [],
            "needs_background": "light"
          }
        }
      ]
    },
    {
      "cell_type": "code",
      "metadata": {
        "colab": {
          "base_uri": "https://localhost:8080/"
        },
        "id": "7QUY5KCsEUfT",
        "outputId": "b71905fe-c5b6-4e8a-c076-ccaf595fb529"
      },
      "source": [
        "# Predict using Polynomial Regression\n",
        "poly_pred = pol_reg.predict(poly_reg_7.fit_transform([[158]]))\n",
        "print('Away score prediction: %d' %poly_pred)"
      ],
      "execution_count": 398,
      "outputs": [
        {
          "output_type": "stream",
          "text": [
            "Away score prediction: 1\n"
          ],
          "name": "stdout"
        }
      ]
    },
    {
      "cell_type": "markdown",
      "metadata": {
        "id": "D2S91rk-apZe"
      },
      "source": [
        "### b). Logistic regression"
      ]
    },
    {
      "cell_type": "markdown",
      "metadata": {
        "id": "inWuuHz6Qlz_"
      },
      "source": [
        "Figure out from the home team’s perspective if the game is a Win, Lose or Draw (W, L, D)"
      ]
    },
    {
      "cell_type": "code",
      "metadata": {
        "colab": {
          "base_uri": "https://localhost:8080/",
          "height": 110
        },
        "id": "qHtkAI_rQ6rf",
        "outputId": "268b9c1b-7b74-4451-ae9c-9e4d3b0b9d8d"
      },
      "source": [
        "Fifa_encode.head(2)"
      ],
      "execution_count": null,
      "outputs": [
        {
          "output_type": "execute_result",
          "data": {
            "text/html": [
              "<div>\n",
              "<style scoped>\n",
              "    .dataframe tbody tr th:only-of-type {\n",
              "        vertical-align: middle;\n",
              "    }\n",
              "\n",
              "    .dataframe tbody tr th {\n",
              "        vertical-align: top;\n",
              "    }\n",
              "\n",
              "    .dataframe thead th {\n",
              "        text-align: right;\n",
              "    }\n",
              "</style>\n",
              "<table border=\"1\" class=\"dataframe\">\n",
              "  <thead>\n",
              "    <tr style=\"text-align: right;\">\n",
              "      <th></th>\n",
              "      <th>date</th>\n",
              "      <th>home_team</th>\n",
              "      <th>away_team</th>\n",
              "      <th>home_score</th>\n",
              "      <th>away_score</th>\n",
              "      <th>tournament</th>\n",
              "      <th>neutral</th>\n",
              "      <th>rank</th>\n",
              "      <th>status</th>\n",
              "    </tr>\n",
              "  </thead>\n",
              "  <tbody>\n",
              "    <tr>\n",
              "      <th>17915</th>\n",
              "      <td>1993-08-08</td>\n",
              "      <td>Bolivia</td>\n",
              "      <td>Uruguay</td>\n",
              "      <td>3</td>\n",
              "      <td>1</td>\n",
              "      <td>17</td>\n",
              "      <td>0</td>\n",
              "      <td>59.0</td>\n",
              "      <td>Win</td>\n",
              "    </tr>\n",
              "    <tr>\n",
              "      <th>17916</th>\n",
              "      <td>1993-08-08</td>\n",
              "      <td>Brazil</td>\n",
              "      <td>Mexico</td>\n",
              "      <td>1</td>\n",
              "      <td>1</td>\n",
              "      <td>18</td>\n",
              "      <td>0</td>\n",
              "      <td>8.0</td>\n",
              "      <td>draw</td>\n",
              "    </tr>\n",
              "  </tbody>\n",
              "</table>\n",
              "</div>"
            ],
            "text/plain": [
              "            date home_team away_team  ...  neutral  rank  status\n",
              "17915 1993-08-08   Bolivia   Uruguay  ...        0  59.0     Win\n",
              "17916 1993-08-08    Brazil    Mexico  ...        0   8.0    draw\n",
              "\n",
              "[2 rows x 9 columns]"
            ]
          },
          "metadata": {
            "tags": []
          },
          "execution_count": 301
        }
      ]
    },
    {
      "cell_type": "code",
      "metadata": {
        "colab": {
          "base_uri": "https://localhost:8080/"
        },
        "id": "5r2ZRtHHZbCI",
        "outputId": "ccd62eb7-081c-4b18-c136-cca90e7fe61b"
      },
      "source": [
        "Fifa_encode.status.value_counts()"
      ],
      "execution_count": null,
      "outputs": [
        {
          "output_type": "execute_result",
          "data": {
            "text/plain": [
              "Win     462\n",
              "Loss    247\n",
              "draw    241\n",
              "Name: status, dtype: int64"
            ]
          },
          "metadata": {
            "tags": []
          },
          "execution_count": 321
        }
      ]
    },
    {
      "cell_type": "markdown",
      "metadata": {
        "id": "gtggbxfVSAaW"
      },
      "source": [
        "LDA"
      ]
    },
    {
      "cell_type": "code",
      "metadata": {
        "colab": {
          "base_uri": "https://localhost:8080/",
          "height": 417
        },
        "id": "Mkr5B8A8SBrB",
        "outputId": "0c8611a0-e542-4d8a-c757-a56a036a925d"
      },
      "source": [
        "#separating target label; 'status' from other features\n",
        "feature = Fifa_encode.drop(['status', 'date', 'home_team', 'away_team'], 1)\n",
        "fifa_label = Fifa_encode['status']\n",
        "feature"
      ],
      "execution_count": null,
      "outputs": [
        {
          "output_type": "execute_result",
          "data": {
            "text/html": [
              "<div>\n",
              "<style scoped>\n",
              "    .dataframe tbody tr th:only-of-type {\n",
              "        vertical-align: middle;\n",
              "    }\n",
              "\n",
              "    .dataframe tbody tr th {\n",
              "        vertical-align: top;\n",
              "    }\n",
              "\n",
              "    .dataframe thead th {\n",
              "        text-align: right;\n",
              "    }\n",
              "</style>\n",
              "<table border=\"1\" class=\"dataframe\">\n",
              "  <thead>\n",
              "    <tr style=\"text-align: right;\">\n",
              "      <th></th>\n",
              "      <th>home_score</th>\n",
              "      <th>away_score</th>\n",
              "      <th>tournament</th>\n",
              "      <th>neutral</th>\n",
              "      <th>rank</th>\n",
              "    </tr>\n",
              "  </thead>\n",
              "  <tbody>\n",
              "    <tr>\n",
              "      <th>17915</th>\n",
              "      <td>3</td>\n",
              "      <td>1</td>\n",
              "      <td>17</td>\n",
              "      <td>0</td>\n",
              "      <td>59.0</td>\n",
              "    </tr>\n",
              "    <tr>\n",
              "      <th>17916</th>\n",
              "      <td>1</td>\n",
              "      <td>1</td>\n",
              "      <td>18</td>\n",
              "      <td>0</td>\n",
              "      <td>8.0</td>\n",
              "    </tr>\n",
              "    <tr>\n",
              "      <th>17917</th>\n",
              "      <td>5</td>\n",
              "      <td>0</td>\n",
              "      <td>17</td>\n",
              "      <td>0</td>\n",
              "      <td>35.0</td>\n",
              "    </tr>\n",
              "    <tr>\n",
              "      <th>17918</th>\n",
              "      <td>1</td>\n",
              "      <td>0</td>\n",
              "      <td>18</td>\n",
              "      <td>0</td>\n",
              "      <td>65.0</td>\n",
              "    </tr>\n",
              "    <tr>\n",
              "      <th>17919</th>\n",
              "      <td>1</td>\n",
              "      <td>3</td>\n",
              "      <td>17</td>\n",
              "      <td>0</td>\n",
              "      <td>67.0</td>\n",
              "    </tr>\n",
              "    <tr>\n",
              "      <th>...</th>\n",
              "      <td>...</td>\n",
              "      <td>...</td>\n",
              "      <td>...</td>\n",
              "      <td>...</td>\n",
              "      <td>...</td>\n",
              "    </tr>\n",
              "    <tr>\n",
              "      <th>39829</th>\n",
              "      <td>2</td>\n",
              "      <td>0</td>\n",
              "      <td>10</td>\n",
              "      <td>1</td>\n",
              "      <td>12.0</td>\n",
              "    </tr>\n",
              "    <tr>\n",
              "      <th>39830</th>\n",
              "      <td>0</td>\n",
              "      <td>5</td>\n",
              "      <td>10</td>\n",
              "      <td>0</td>\n",
              "      <td>12.0</td>\n",
              "    </tr>\n",
              "    <tr>\n",
              "      <th>39831</th>\n",
              "      <td>4</td>\n",
              "      <td>0</td>\n",
              "      <td>10</td>\n",
              "      <td>1</td>\n",
              "      <td>12.0</td>\n",
              "    </tr>\n",
              "    <tr>\n",
              "      <th>39832</th>\n",
              "      <td>3</td>\n",
              "      <td>2</td>\n",
              "      <td>10</td>\n",
              "      <td>1</td>\n",
              "      <td>12.0</td>\n",
              "    </tr>\n",
              "    <tr>\n",
              "      <th>39833</th>\n",
              "      <td>4</td>\n",
              "      <td>2</td>\n",
              "      <td>10</td>\n",
              "      <td>1</td>\n",
              "      <td>12.0</td>\n",
              "    </tr>\n",
              "  </tbody>\n",
              "</table>\n",
              "<p>950 rows × 5 columns</p>\n",
              "</div>"
            ],
            "text/plain": [
              "       home_score  away_score  tournament  neutral  rank\n",
              "17915           3           1          17        0  59.0\n",
              "17916           1           1          18        0   8.0\n",
              "17917           5           0          17        0  35.0\n",
              "17918           1           0          18        0  65.0\n",
              "17919           1           3          17        0  67.0\n",
              "...           ...         ...         ...      ...   ...\n",
              "39829           2           0          10        1  12.0\n",
              "39830           0           5          10        0  12.0\n",
              "39831           4           0          10        1  12.0\n",
              "39832           3           2          10        1  12.0\n",
              "39833           4           2          10        1  12.0\n",
              "\n",
              "[950 rows x 5 columns]"
            ]
          },
          "metadata": {
            "tags": []
          },
          "execution_count": 302
        }
      ]
    },
    {
      "cell_type": "code",
      "metadata": {
        "colab": {
          "base_uri": "https://localhost:8080/"
        },
        "id": "Baut8zEESIRM",
        "outputId": "ff1f6bb2-b231-428e-d054-8ee66ef69521"
      },
      "source": [
        "#performing LDA\n",
        "from sklearn.discriminant_analysis import LinearDiscriminantAnalysis as LDA\n",
        "\n",
        "lda= LDA()\n",
        "\n",
        "lda_ = lda.fit(feature, fifa_label)\n",
        "lda_feat = lda_.transform(feature)\n",
        "\n",
        "#Display the coefficient of reducted columns\n",
        "lda_.coef_"
      ],
      "execution_count": null,
      "outputs": [
        {
          "output_type": "execute_result",
          "data": {
            "text/plain": [
              "array([[-6.71981814e-01,  1.66665517e+00,  1.19373975e-02,\n",
              "        -1.08667812e-01,  4.68019558e-03],\n",
              "       [ 5.21495358e-01, -8.16775720e-01, -8.05011219e-03,\n",
              "         2.33813572e-02, -2.86049665e-03],\n",
              "       [-3.11001442e-01, -1.42379433e-01,  3.19757120e-03,\n",
              "         6.65508822e-02,  6.86892711e-04]])"
            ]
          },
          "metadata": {
            "tags": []
          },
          "execution_count": 303
        }
      ]
    },
    {
      "cell_type": "code",
      "metadata": {
        "colab": {
          "base_uri": "https://localhost:8080/",
          "height": 203
        },
        "id": "roVPc0nFSN4X",
        "outputId": "97fa3770-2470-4b7d-eba3-a446ba43984d"
      },
      "source": [
        "#create a dataframe so that we can extract the names of columns\n",
        "f_df = pd.DataFrame(index=feature.columns.values, data=lda_.coef_[0].T)\n",
        "f_df.sort_values(0, ascending=False)"
      ],
      "execution_count": null,
      "outputs": [
        {
          "output_type": "execute_result",
          "data": {
            "text/html": [
              "<div>\n",
              "<style scoped>\n",
              "    .dataframe tbody tr th:only-of-type {\n",
              "        vertical-align: middle;\n",
              "    }\n",
              "\n",
              "    .dataframe tbody tr th {\n",
              "        vertical-align: top;\n",
              "    }\n",
              "\n",
              "    .dataframe thead th {\n",
              "        text-align: right;\n",
              "    }\n",
              "</style>\n",
              "<table border=\"1\" class=\"dataframe\">\n",
              "  <thead>\n",
              "    <tr style=\"text-align: right;\">\n",
              "      <th></th>\n",
              "      <th>0</th>\n",
              "    </tr>\n",
              "  </thead>\n",
              "  <tbody>\n",
              "    <tr>\n",
              "      <th>away_score</th>\n",
              "      <td>1.666655</td>\n",
              "    </tr>\n",
              "    <tr>\n",
              "      <th>tournament</th>\n",
              "      <td>0.011937</td>\n",
              "    </tr>\n",
              "    <tr>\n",
              "      <th>rank</th>\n",
              "      <td>0.004680</td>\n",
              "    </tr>\n",
              "    <tr>\n",
              "      <th>neutral</th>\n",
              "      <td>-0.108668</td>\n",
              "    </tr>\n",
              "    <tr>\n",
              "      <th>home_score</th>\n",
              "      <td>-0.671982</td>\n",
              "    </tr>\n",
              "  </tbody>\n",
              "</table>\n",
              "</div>"
            ],
            "text/plain": [
              "                   0\n",
              "away_score  1.666655\n",
              "tournament  0.011937\n",
              "rank        0.004680\n",
              "neutral    -0.108668\n",
              "home_score -0.671982"
            ]
          },
          "metadata": {
            "tags": []
          },
          "execution_count": 304
        }
      ]
    },
    {
      "cell_type": "markdown",
      "metadata": {
        "id": "9WiHbOaUSlgb"
      },
      "source": [
        "The following features have great effect on the dataset. So we will use them in model creation\n",
        "* away score\n",
        "* tournament\n",
        "* rank"
      ]
    },
    {
      "cell_type": "code",
      "metadata": {
        "id": "pG2FUaJvQSQP"
      },
      "source": [
        "# Splitting our dataset\n",
        "#\n",
        "X = Fifa_encode.drop(['status','date', 'home_team', 'away_team','neutral'],axis=1)\n",
        "y = Fifa_encode['status']\n",
        "\n",
        "from sklearn.model_selection import train_test_split\n",
        "X_train, X_test, y_train, y_test = train_test_split(X, y, test_size = .3, random_state=25)"
      ],
      "execution_count": null,
      "outputs": []
    },
    {
      "cell_type": "code",
      "metadata": {
        "colab": {
          "base_uri": "https://localhost:8080/"
        },
        "id": "YqRWzdrPSu4P",
        "outputId": "1fa2ad8d-39f1-499e-8255-494589705dac"
      },
      "source": [
        "# Fitting our model \n",
        "from sklearn.linear_model import LogisticRegression\n",
        "\n",
        "LogReg = LogisticRegression(solver = 'liblinear',max_iter= 100000)\n",
        "LogReg.fit(X_train, y_train)\n"
      ],
      "execution_count": null,
      "outputs": [
        {
          "output_type": "execute_result",
          "data": {
            "text/plain": [
              "LogisticRegression(C=1.0, class_weight=None, dual=False, fit_intercept=True,\n",
              "                   intercept_scaling=1, l1_ratio=None, max_iter=100000,\n",
              "                   multi_class='auto', n_jobs=None, penalty='l2',\n",
              "                   random_state=None, solver='liblinear', tol=0.0001, verbose=0,\n",
              "                   warm_start=False)"
            ]
          },
          "metadata": {
            "tags": []
          },
          "execution_count": 314
        }
      ]
    },
    {
      "cell_type": "code",
      "metadata": {
        "id": "1XhRg107WF1r"
      },
      "source": [
        "# Using the model to make a prediction\n",
        "y_pred = LogReg.predict(X_test)"
      ],
      "execution_count": null,
      "outputs": []
    },
    {
      "cell_type": "code",
      "metadata": {
        "colab": {
          "base_uri": "https://localhost:8080/"
        },
        "id": "APmvRCweYiHr",
        "outputId": "08141eb3-d6af-4424-c447-06cd50084145"
      },
      "source": [
        "y_pred"
      ],
      "execution_count": null,
      "outputs": [
        {
          "output_type": "execute_result",
          "data": {
            "text/plain": [
              "array(['Win', 'draw', 'Win', 'Win', 'draw', 'Loss', 'Win', 'Win', 'Loss',\n",
              "       'Win', 'draw', 'Win', 'draw', 'draw', 'draw', 'draw', 'draw',\n",
              "       'Loss', 'Loss', 'Loss', 'Loss', 'Win', 'Win', 'Loss', 'draw',\n",
              "       'draw', 'draw', 'Win', 'draw', 'Loss', 'Loss', 'Loss', 'Loss',\n",
              "       'Win', 'draw', 'draw', 'Win', 'Win', 'draw', 'Loss', 'draw',\n",
              "       'Loss', 'Win', 'Win', 'draw', 'Win', 'Loss', 'Win', 'Win', 'Loss',\n",
              "       'draw', 'Win', 'Loss', 'draw', 'Win', 'Win', 'Win', 'draw', 'Win',\n",
              "       'Win', 'Win', 'Win', 'Loss', 'Win', 'Loss', 'Loss', 'draw', 'Win',\n",
              "       'Loss', 'draw', 'Win', 'Win', 'Win', 'Loss', 'Win', 'draw', 'Loss',\n",
              "       'Win', 'Win', 'Win', 'Loss', 'draw', 'Win', 'Win', 'Win', 'draw',\n",
              "       'Win', 'Win', 'Loss', 'Loss', 'Loss', 'draw', 'Win', 'Win', 'Win',\n",
              "       'Loss', 'Loss', 'Win', 'Win', 'Win', 'Loss', 'draw', 'draw',\n",
              "       'Loss', 'draw', 'draw', 'Win', 'Win', 'draw', 'Win', 'Loss',\n",
              "       'Loss', 'draw', 'Win', 'Win', 'Win', 'Win', 'Win', 'Win', 'Win',\n",
              "       'Win', 'Win', 'Win', 'draw', 'draw', 'Win', 'Loss', 'Win', 'Win',\n",
              "       'Win', 'draw', 'draw', 'Win', 'draw', 'Win', 'Loss', 'Loss', 'Win',\n",
              "       'Loss', 'draw', 'Win', 'Loss', 'Win', 'draw', 'Win', 'Win', 'Win',\n",
              "       'draw', 'Win', 'Loss', 'Win', 'Win', 'Win', 'Win', 'draw', 'Win',\n",
              "       'Win', 'Win', 'Win', 'Loss', 'Win', 'draw', 'Loss', 'Win', 'Win',\n",
              "       'Win', 'draw', 'draw', 'Win', 'draw', 'draw', 'Loss', 'draw',\n",
              "       'Loss', 'draw', 'draw', 'Win', 'Loss', 'Loss', 'Win', 'Loss',\n",
              "       'Win', 'Win', 'Win', 'Win', 'draw', 'Win', 'draw', 'Loss', 'Win',\n",
              "       'draw', 'Win', 'Win', 'Loss', 'Win', 'draw', 'Win', 'Loss', 'draw',\n",
              "       'Loss', 'Loss', 'Win', 'Win', 'Win', 'Win', 'Loss', 'Loss', 'Win',\n",
              "       'draw', 'Win', 'Loss', 'Win', 'draw', 'Win', 'Loss', 'Win', 'Loss',\n",
              "       'draw', 'Win', 'draw', 'Win', 'draw', 'Win', 'Win', 'Win', 'Win',\n",
              "       'draw', 'Loss', 'Loss', 'Loss', 'Win', 'Loss', 'draw', 'Win',\n",
              "       'Win', 'Win', 'Loss', 'Win', 'Win', 'Win', 'draw', 'Win', 'draw',\n",
              "       'draw', 'draw', 'draw', 'Win', 'Win', 'draw', 'Win', 'Loss',\n",
              "       'draw', 'Win', 'Win', 'draw', 'draw', 'Win', 'draw', 'Win', 'Loss',\n",
              "       'Win', 'Win', 'Loss', 'Win', 'Loss', 'Loss', 'Win', 'draw', 'Loss',\n",
              "       'Win', 'Win', 'draw', 'draw', 'draw', 'Loss', 'Win', 'Win', 'Win',\n",
              "       'Win', 'Loss', 'Loss', 'Win', 'Win', 'Win', 'draw'], dtype=object)"
            ]
          },
          "metadata": {
            "tags": []
          },
          "execution_count": 320
        }
      ]
    },
    {
      "cell_type": "code",
      "metadata": {
        "colab": {
          "base_uri": "https://localhost:8080/"
        },
        "id": "9FJzGBtOWRDv",
        "outputId": "f49b425d-a433-4e17-f413-ccb6dc4df2f3"
      },
      "source": [
        "# Evaluating the model\n",
        "\n",
        "from sklearn.metrics import confusion_matrix\n",
        "confusion_matrix = confusion_matrix(y_test, y_pred)\n",
        "confusion_matrix"
      ],
      "execution_count": null,
      "outputs": [
        {
          "output_type": "execute_result",
          "data": {
            "text/plain": [
              "array([[ 68,   0,   0],\n",
              "       [  0, 139,   0],\n",
              "       [  1,   1,  76]])"
            ]
          },
          "metadata": {
            "tags": []
          },
          "execution_count": 326
        }
      ]
    },
    {
      "cell_type": "markdown",
      "metadata": {
        "id": "MVn0wer2X5u5"
      },
      "source": [
        "the matrix tells us that there are 68, 139 and 76 correct Win, loss and draw prediction."
      ]
    },
    {
      "cell_type": "markdown",
      "metadata": {
        "id": "TdtHjTXULQpY"
      },
      "source": [
        "## 8. Implementing the Solution"
      ]
    },
    {
      "cell_type": "markdown",
      "metadata": {
        "id": "dtLZHib_f4jp"
      },
      "source": [
        "From the models that we have created, it will be now easy to predict a win,loss or draw from a game as well as the scores a team can get using the type of tournament and  the rank of the team."
      ]
    },
    {
      "cell_type": "markdown",
      "metadata": {
        "id": "8nL9wPCsLVps"
      },
      "source": [
        "## 9. Challenge the solution"
      ]
    },
    {
      "cell_type": "code",
      "metadata": {
        "id": "oOKnaXK9LcU0"
      },
      "source": [
        "# Reviewing the Solution \n",
        "#\n",
        "From the dataset that we were given there were missing some valuable columns like different ranks of team, that we had to create based an what was on the dataset wich might affect the type \n",
        "of model we created."
      ],
      "execution_count": null,
      "outputs": []
    },
    {
      "cell_type": "markdown",
      "metadata": {
        "id": "cTk1cM-dLWqN"
      },
      "source": [
        "## 10. Follow up questions"
      ]
    },
    {
      "cell_type": "markdown",
      "metadata": {
        "id": "Mup-7zThLmu_"
      },
      "source": [
        "> At this point, we can refine our question or collect new data, all in an iterative process to get at the truth.\n"
      ]
    },
    {
      "cell_type": "markdown",
      "metadata": {
        "id": "zMyQXLp2Lnl-"
      },
      "source": [
        "### a). Did we have the right data?"
      ]
    },
    {
      "cell_type": "markdown",
      "metadata": {
        "id": "1rEUYCbagzuB"
      },
      "source": [
        "Yes"
      ]
    },
    {
      "cell_type": "markdown",
      "metadata": {
        "id": "OzDrx4ZQLt08"
      },
      "source": [
        "### b). Do we need other data to answer our question?"
      ]
    },
    {
      "cell_type": "markdown",
      "metadata": {
        "id": "fic0U4KZg2eE"
      },
      "source": [
        "Yes"
      ]
    },
    {
      "cell_type": "markdown",
      "metadata": {
        "id": "ImwI05aJL2p4"
      },
      "source": [
        "### c). Did we have the right question?"
      ]
    },
    {
      "cell_type": "markdown",
      "metadata": {
        "id": "ebjtlDiMg40F"
      },
      "source": [
        "Yes."
      ]
    }
  ]
}